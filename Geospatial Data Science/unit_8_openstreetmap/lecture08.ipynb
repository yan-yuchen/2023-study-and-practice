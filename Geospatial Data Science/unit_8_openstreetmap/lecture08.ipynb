{
 "cells": [
  {
   "cell_type": "markdown",
   "metadata": {
    "tags": []
   },
   "source": [
    "<div class=\"frontmatter text-center\">\n",
    "<h1>Geospatial Data Science</h1>\n",
    "<h2>Lecture 8: OpenStreetMap and OSMnx</h2>\n",
    "<h3>IT University of Copenhagen, Spring 2022</h3>\n",
    "<h3>Instructor: Michael Szell</h3>\n",
    "</div>\n",
    "\n",
    "# Source\n",
    "This notebook was adapted from:\n",
    "* OSMnx examples: https://github.com/gboeing/osmnx-examples\n",
    "* pyrosm examples: https://pyrosm.readthedocs.io/en/latest/basics.html#read-street-networks"
   ]
  },
  {
   "cell_type": "markdown",
   "metadata": {},
   "source": [
    "# OSMnx overview: querying, simplifying, visualizing, saving"
   ]
  },
  {
   "cell_type": "code",
   "execution_count": null,
   "metadata": {},
   "outputs": [],
   "source": [
    "import geopandas as gpd\n",
    "import osmnx as ox\n",
    "import numpy as np\n",
    "import networkx as nx\n",
    "import pandas as pd\n",
    "\n",
    "%matplotlib inline\n",
    "ox.__version__"
   ]
  },
  {
   "cell_type": "markdown",
   "metadata": {},
   "source": [
    "You can configure OSMnx using `ox.config()`. See the [documentation](https://osmnx.readthedocs.io/en/stable/osmnx.html#osmnx.utils.config) for the settings you can configure. For example, by default OSMnx caches all server responses to prevent repeatedly hitting the server for the same query every time you run it. This both makes our code faster on subsequent runs and helps us be a \"good neighbor\" to the server. But you can turn caching off (or back on again) with the `use_cache` parameter. Any parameters not passed to the config function are (re-)set to their original default values whenever you call it."
   ]
  },
  {
   "cell_type": "code",
   "execution_count": null,
   "metadata": {},
   "outputs": [],
   "source": [
    "# turn response caching off\n",
    "ox.config(use_cache=False)\n",
    "\n",
    "# turn it back on and turn on/off logging to your console\n",
    "ox.config(use_cache=True, log_console=False)"
   ]
  },
  {
   "cell_type": "markdown",
   "metadata": {},
   "source": [
    "## Part 1: get place boundaries from OpenStreetMap\n",
    "\n",
    "OSMnx lets you download place boundary geometries from OpenStreetMap, project them, and plot them. For a more in-depth demonstration of querying by place, see [this notebook](03-graph-place-queries.ipynb)."
   ]
  },
  {
   "cell_type": "code",
   "execution_count": null,
   "metadata": {},
   "outputs": [],
   "source": [
    "# get the boundary polygon for manhattan, project it, and plot it\n",
    "city = ox.geocode_to_gdf(\"Manhattan\")\n",
    "city_proj = ox.project_gdf(city)\n",
    "ax = city_proj.plot(fc=\"gray\", ec=\"none\")\n",
    "ax.axis(\"off\");"
   ]
  },
  {
   "cell_type": "code",
   "execution_count": null,
   "metadata": {},
   "outputs": [],
   "source": [
    "# get boundary polygons for several cities, save as GeoPackage, project to UTM, and plot\n",
    "place_names = [\n",
    "    \"Berkeley, California, USA\",\n",
    "    \"Oakland, California, USA\",\n",
    "    \"Piedmont, California, USA\",\n",
    "    \"Emeryville, California, USA\",\n",
    "    \"Alameda, Alameda County, CA, USA\",\n",
    "]\n",
    "east_bay = ox.geocode_to_gdf(place_names)\n",
    "east_bay.to_file(\"files/east_bay.gpkg\", driver=\"GPKG\")\n",
    "east_bay = ox.project_gdf(east_bay)\n",
    "ax = east_bay.plot(fc=\"gray\", ec=\"none\")\n",
    "_ = ax.axis(\"off\")"
   ]
  },
  {
   "cell_type": "code",
   "execution_count": null,
   "metadata": {},
   "outputs": [],
   "source": [
    "# if you know the OSM ID of the place(s) you want, you can query it directly\n",
    "ox.geocode_to_gdf([\"R2192363\", \"N240109189\", \"W427818536\"], by_osmid=True)"
   ]
  },
  {
   "cell_type": "markdown",
   "metadata": {},
   "source": [
    "## Part 2: download and model street networks\n",
    "\n",
    "OSMnx lets you download street network data and build topologically-corrected street networks, project and plot the networks, and save the street network as SVGs, GraphML files, GeoPackages, or shapefiles for later use. The street networks are directed and preserve one-way directionality. For a more in-depth demonstration of creating street networks, see [this notebook](03-graph-place-queries.ipynb).\n",
    "\n",
    "You can download a street network by providing OSMnx any of the following (demonstrated in the examples below):\n",
    "  - a bounding box\n",
    "  - a lat-long point plus a distance\n",
    "  - an address plus a distance\n",
    "  - a place name or list of place names (to automatically geocode and get the boundary of)\n",
    "  - a polygon of the desired street network's boundaries\n",
    "  - a .osm formatted xml file\n",
    "\n",
    "You can also specify several different network types:\n",
    "  - 'drive' - get drivable public streets (but not service roads)\n",
    "  - 'drive_service' - get drivable streets, including service roads\n",
    "  - 'walk' - get all streets and paths that pedestrians can use (this network type ignores one-way directionality)\n",
    "  - 'bike' - get all streets and paths that cyclists can use\n",
    "  - 'all' - download all non-private OSM streets and paths (this is the default network type unless you specify a different one)\n",
    "  - 'all_private' - download all OSM streets and paths, including private-access ones"
   ]
  },
  {
   "cell_type": "markdown",
   "metadata": {},
   "source": [
    " #### Method #1, pass a bounding box ####\n",
    " This constructs the network from all the OSM nodes and ways within the bounding box."
   ]
  },
  {
   "cell_type": "code",
   "execution_count": null,
   "metadata": {},
   "outputs": [],
   "source": [
    "# define a bounding box in San Francisco\n",
    "north, south, east, west = 37.79, 37.78, -122.41, -122.43\n",
    "# define a bounding box around ITU\n",
    "north, south, east, west = 55.6646, 55.6540, 12.5767, 12.6077\n",
    "\n",
    "# create network from that bounding box\n",
    "G = ox.graph_from_bbox(north, south, east, west, network_type=\"drive_service\")\n",
    "ox.plot_graph(G, node_color=\"r\");"
   ]
  },
  {
   "cell_type": "markdown",
   "metadata": {},
   "source": [
    "#### Method #2, pass a lat-lng point and bounding box distance in meters\n",
    "This creates a bounding box *n* meters North, South, East, and West of the point, then constructs the network from all the OSM nodes and ways within the bounding box."
   ]
  },
  {
   "cell_type": "code",
   "execution_count": null,
   "metadata": {},
   "outputs": [],
   "source": [
    "# define a point at the corner of California St and Mason St in SF\n",
    "location_point = (37.791427, -122.410018)\n",
    "# define a point at ITU\n",
    "location_point = (55.659323, 12.591472)\n",
    "\n",
    "# create bikeable network from point, inside bounding box of N, S, E, W each 750m from point\n",
    "G = ox.graph_from_point(location_point, dist=750, dist_type=\"bbox\", network_type=\"bike\")\n",
    "ox.plot_graph(G, node_color=\"r\");"
   ]
  },
  {
   "cell_type": "markdown",
   "metadata": {},
   "source": [
    "#### Method #3, pass a lat-lng point and *network* distance in meters ####\n",
    "\n",
    "This creates a bounding box *n* meters North, South, East, and West of the point, then constructs the network from all the OSM nodes and ways within the bounding box. Then it truncates the network by removing all nodes further than *n* meters from the point along the network."
   ]
  },
  {
   "cell_type": "code",
   "execution_count": null,
   "metadata": {},
   "outputs": [],
   "source": [
    "# same point again, but create network only of nodes within 750m along the network from point\n",
    "G1 = ox.graph_from_point(location_point, dist=750, dist_type=\"network\")\n",
    "ox.plot_graph(G1, node_color=\"r\");"
   ]
  },
  {
   "cell_type": "markdown",
   "metadata": {},
   "source": [
    "*Note* the plot above shows the network within 500m (traveling distance along the network) from the `location_point`. By default, the `network_type` parameter value is 'all', meaning that we do not filter out paths that restrict certain types of traffic. This also means that one-way streets are honored as one-way and you cannot travel the wrong direction down them. Thus, the 500m takes into account only those nodes you can reach within 500m while only traveling in the allowed direction of the street. Instead (below), we can specify `network_type='walk'` to build a street network only of paths that walking is allowed on. This also makes every path bi-directional in the directed network, because you can walk in either direction on the sidewalk of a one-way street. Thus, the 500m now takes into account those nodes you can reach within 500m while traveling in either direction (even if it's a one-way street)."
   ]
  },
  {
   "cell_type": "code",
   "execution_count": null,
   "metadata": {},
   "outputs": [],
   "source": [
    "# create network only of nodes within 750m walking along the network from point\n",
    "G2 = ox.graph_from_point(location_point, dist=750, dist_type=\"network\", network_type=\"walk\")\n",
    "ox.plot_graph(G2, node_color=\"r\");"
   ]
  },
  {
   "cell_type": "markdown",
   "metadata": {},
   "source": [
    "#### Method #4, pass an address and distance (*bounding box* or *network*) in meters ####\n",
    "This geocodes the address, creates a bounding box, downloads the network, then truncates it by network distance (if distance_type='network')."
   ]
  },
  {
   "cell_type": "code",
   "execution_count": null,
   "metadata": {},
   "outputs": [],
   "source": [
    "# network from address, including only nodes within 1km along the network from the address\n",
    "G = ox.graph_from_address(\n",
    "    address=\"350 5th Ave, New York, NY\",\n",
    "    dist=1000,\n",
    "    dist_type=\"network\",\n",
    "    network_type=\"drive\",\n",
    ")\n",
    "\n",
    "# you can project the network to UTM (zone calculated automatically)\n",
    "G_projected = ox.project_graph(G)\n",
    "ox.plot_graph(G_projected, node_color=\"r\");"
   ]
  },
  {
   "cell_type": "markdown",
   "metadata": {},
   "source": [
    "#### Method #5, pass a place name ####\n",
    "\n",
    "This geocodes the place name, gets the place's boundary shape polygon and bounding box, downloads the network within the bounding box, then truncates it to the place's boundary polygon."
   ]
  },
  {
   "cell_type": "code",
   "execution_count": null,
   "metadata": {},
   "outputs": [],
   "source": [
    "G = ox.graph_from_place(\"Frederiksberg\", network_type=\"drive\")\n",
    "ox.plot_graph(G, node_color=\"r\");"
   ]
  },
  {
   "cell_type": "markdown",
   "metadata": {},
   "source": [
    "This is not the Frederiksberg we were looking for! It is Fredericksburg in Virginia. What happened? Names are resolved via nominatim, which returns the first result that is a polygon or multipolygon. All results are listed here: https://nominatim.openstreetmap.org/ui/search.html?q=Frederiksberg"
   ]
  },
  {
   "cell_type": "markdown",
   "metadata": {},
   "source": [
    "To fetch a different result, use the parameter `which_result`:"
   ]
  },
  {
   "cell_type": "code",
   "execution_count": null,
   "metadata": {},
   "outputs": [],
   "source": [
    "# Frederiksberg, Sorø Municipality, Denmark\n",
    "G = ox.graph_from_place(\"Frederiksberg\", network_type=\"drive\", which_result=6)\n",
    "ox.plot_graph(G, node_color=\"r\");"
   ]
  },
  {
   "cell_type": "markdown",
   "metadata": {},
   "source": [
    "But where is the Frederiksberg we are looking for??"
   ]
  },
  {
   "cell_type": "code",
   "execution_count": null,
   "metadata": {},
   "outputs": [],
   "source": [
    "# Frederiksberg Municipality, Denmark\n",
    "G_fred = ox.graph_from_place(\"Frederiksberg Municipality\", network_type=\"drive\")\n",
    "G_fred = ox.project_graph(G_fred)\n",
    "ox.plot_graph(G_fred, node_color=\"r\");"
   ]
  },
  {
   "cell_type": "code",
   "execution_count": null,
   "metadata": {},
   "outputs": [],
   "source": [
    "G_fred"
   ]
  },
  {
   "cell_type": "markdown",
   "metadata": {},
   "source": [
    "Be aware that this is a MultiDiGraph, i.e. a multigraph (parallel edges are possible) that is directed. Because there can be multiple links between a pair of nodes, each link is identified with a triple: (node1id, node2id, counter)"
   ]
  },
  {
   "cell_type": "code",
   "execution_count": null,
   "metadata": {},
   "outputs": [],
   "source": [
    "list(G_fred.edges)[:10]"
   ]
  },
  {
   "cell_type": "markdown",
   "metadata": {},
   "source": [
    "Beware of weird or unexpected administrative regions, so always double-check your results:"
   ]
  },
  {
   "cell_type": "code",
   "execution_count": null,
   "metadata": {},
   "outputs": [],
   "source": [
    "# get the boundary polygon for Copenhagen, project it, and plot it\n",
    "city = ox.geocode_to_gdf(\"Copenhagen municipality\")\n",
    "city_proj = ox.project_gdf(city)\n",
    "ax = city_proj.plot(fc=\"gray\", ec=\"none\")\n",
    "ax.axis(\"off\");"
   ]
  },
  {
   "cell_type": "code",
   "execution_count": null,
   "metadata": {},
   "outputs": [],
   "source": [
    "# get the boundary polygon for Copenhagen including Frederiksberg, project it, and plot it\n",
    "city = ox.geocode_to_gdf([\"Copenhagen municipality\", \"Frederiksberg municipality\"])\n",
    "city_proj = ox.project_gdf(city)\n",
    "ax = city_proj.plot(fc=\"gray\", ec=\"none\")\n",
    "ax.axis(\"off\");"
   ]
  },
  {
   "cell_type": "markdown",
   "metadata": {},
   "source": [
    "If you look closely you can see a thin boundary around Frederiksberg. So, this just plotted both regions, but if you wanted to use the shapes further, for example as a boundary to select further objects, you could dissolve the polygons with shapely:"
   ]
  },
  {
   "cell_type": "code",
   "execution_count": null,
   "metadata": {},
   "outputs": [],
   "source": [
    "city_proj"
   ]
  },
  {
   "cell_type": "code",
   "execution_count": null,
   "metadata": {},
   "outputs": [],
   "source": [
    "from shapely.ops import unary_union\n",
    "unary_union([p for p in city_proj.geometry])"
   ]
  },
  {
   "cell_type": "code",
   "execution_count": null,
   "metadata": {},
   "outputs": [],
   "source": [
    "# get the boundary polygon for France, project it, and plot it\n",
    "france = ox.geocode_to_gdf(\"France\")\n",
    "france = ox.project_gdf(france)\n",
    "ax = france.plot(fc=\"k\", ec=\"none\")\n",
    "ax.axis(\"off\");"
   ]
  },
  {
   "cell_type": "code",
   "execution_count": null,
   "metadata": {},
   "outputs": [],
   "source": [
    "# you can also pass multiple places as a mixed list of strings and/or dicts\n",
    "places = [\n",
    "    \"Los Altos, California, USA\",\n",
    "    {\"city\": \"Los Altos Hills\", \"state\": \"California\"},\n",
    "    \"Loyola, California\",\n",
    "]\n",
    "G = ox.graph_from_place(places, clean_periphery=False)\n",
    "\n",
    "# save to disk as GeoPackage file then plot\n",
    "ox.save_graph_geopackage(G)\n",
    "ox.plot_graph(G, node_size=0, edge_color=\"w\", edge_linewidth=0.2);"
   ]
  },
  {
   "cell_type": "markdown",
   "metadata": {},
   "source": [
    "#### Method #6, pass a polygon ####\n",
    "\n",
    "This example loads the [Mission District](http://www.zillow.com/howto/api/neighborhood-boundaries.htm)'s polygon from a shapefile, then downloads the network within its bounding box, then prunes all nodes that lie outside the place's boundary polygon."
   ]
  },
  {
   "cell_type": "code",
   "execution_count": null,
   "metadata": {},
   "outputs": [],
   "source": [
    "calif = gpd.read_file(\"files/ZillowNeighborhoods-CA\")\n",
    "calif"
   ]
  },
  {
   "cell_type": "code",
   "execution_count": null,
   "metadata": {},
   "outputs": [],
   "source": [
    "mission_district = calif[(calif[\"CITY\"] == \"San Francisco\") & (calif[\"NAME\"] == \"Mission\")]\n",
    "polygon = mission_district[\"geometry\"].iloc[0]\n",
    "\n",
    "G2 = ox.graph_from_polygon(polygon, network_type=\"drive_service\")\n",
    "ox.plot_graph(G2, node_size=0, edge_color=\"w\", edge_linewidth=0.5);"
   ]
  },
  {
   "cell_type": "markdown",
   "metadata": {},
   "source": [
    "#### Method #7, load a .osm xml file"
   ]
  },
  {
   "cell_type": "code",
   "execution_count": null,
   "metadata": {},
   "outputs": [],
   "source": [
    "# create graph from .osm extract file\n",
    "G = ox.graph_from_xml(\"files/West-Oakland.osm.bz2\")\n",
    "ox.plot_graph(G, node_color=\"r\");"
   ]
  },
  {
   "cell_type": "markdown",
   "metadata": {},
   "source": [
    "## Part 3: simplifying street network topology\n",
    "\n",
    "Simplification is normally done by OSMnx automatically under the hood, but we can break it out to see how it works. OpenStreetMap nodes are weird. They include intersections, but they also include all the points along a single block where the street curves. The latter are not nodes in the graph theory sense, so we remove them algorithmically and consolidate the set of edges between \"true\" network nodes into a single edge. There are two simplification modes, strict and non-strict. The main difference is that unlike strict mode, non-strict mode allows simplification to an \"expansion graph\" (ie, if the graph were undirected, nodes with degree 2 as long as the incident edges have different OSM IDs)."
   ]
  },
  {
   "cell_type": "code",
   "execution_count": null,
   "metadata": {},
   "outputs": [],
   "source": [
    "# create a network around some (lat, lng) point but do not simplify it yet\n",
    "location_point = (33.299896, -111.831638)\n",
    "G = ox.graph_from_point(location_point, network_type=\"drive_service\", dist=500, simplify=False)\n",
    "ox.plot_graph(G, node_color=\"r\");"
   ]
  },
  {
   "cell_type": "code",
   "execution_count": null,
   "metadata": {},
   "outputs": [],
   "source": [
    "# turn off strict mode and see what nodes we'd remove, in yellow\n",
    "nc = [\"r\" if ox.simplification._is_endpoint(G, node) else \"y\" for node in G.nodes()]\n",
    "fig, ax = ox.plot_graph(G, node_color=nc);"
   ]
  },
  {
   "cell_type": "markdown",
   "metadata": {},
   "source": [
    "The dots above are OSM nodes. We'll remove the nodes in yellow as they're not real network nodes (intersections/dead-ends)."
   ]
  },
  {
   "cell_type": "code",
   "execution_count": null,
   "metadata": {},
   "outputs": [],
   "source": [
    "# simplify the network\n",
    "G = ox.simplify_graph(G)\n",
    "ox.plot_graph(G, node_color=\"r\");"
   ]
  },
  {
   "cell_type": "code",
   "execution_count": null,
   "metadata": {},
   "outputs": [],
   "source": [
    "# show the simplified network with edges colored by length\n",
    "ec = ox.plot.get_edge_colors_by_attr(G, attr=\"length\", cmap=\"plasma_r\")\n",
    "fig, ax = ox.plot_graph(\n",
    "    G, node_color=\"w\", node_edgecolor=\"k\", node_size=50, edge_color=ec, edge_linewidth=3\n",
    ")"
   ]
  },
  {
   "cell_type": "code",
   "execution_count": null,
   "metadata": {},
   "outputs": [],
   "source": [
    "ec"
   ]
  },
  {
   "cell_type": "code",
   "execution_count": null,
   "metadata": {},
   "outputs": [],
   "source": [
    "# highlight all parallel (multiple) edges\n",
    "ec = [\"gray\" if k == 0 or u == v else \"r\" for u, v, k in G.edges(keys=True)]\n",
    "fig, ax = ox.plot_graph(\n",
    "    G, node_color=\"w\", node_edgecolor=\"k\", node_size=50, edge_color=ec, edge_linewidth=3\n",
    ")"
   ]
  },
  {
   "cell_type": "markdown",
   "metadata": {},
   "source": [
    "We can see the parallel edges in the data:"
   ]
  },
  {
   "cell_type": "code",
   "execution_count": null,
   "metadata": {},
   "outputs": [],
   "source": [
    "list(G.edges)[:10]"
   ]
  },
  {
   "cell_type": "markdown",
   "metadata": {},
   "source": [
    "### Highlighting map properties in Frederiksberg"
   ]
  },
  {
   "cell_type": "code",
   "execution_count": null,
   "metadata": {},
   "outputs": [],
   "source": [
    "G_fred.edges[576734, 576735, 0]"
   ]
  },
  {
   "cell_type": "code",
   "execution_count": null,
   "metadata": {},
   "outputs": [],
   "source": [
    "# highlight all one-way edges in the Frederiksberg network from earlier\n",
    "ec = [\"r\" if data[\"oneway\"] else \"w\" for u, v, key, data in G_fred.edges(keys=True, data=True)]\n",
    "fig, ax = ox.plot_graph(G_fred, node_size=0, edge_color=ec, edge_linewidth=1.5, edge_alpha=0.7)"
   ]
  },
  {
   "cell_type": "markdown",
   "metadata": {},
   "source": [
    "Be aware that streets made up of two (minimally separated) lanes could have their lanes marked as \"oneway\", but effectively the street is twoway! For example, Roskildevej on the bottom left of the map:"
   ]
  },
  {
   "cell_type": "markdown",
   "metadata": {},
   "source": [
    "<img src=\"files/roskildevej.jpg\">"
   ]
  },
  {
   "cell_type": "code",
   "execution_count": null,
   "metadata": {},
   "outputs": [],
   "source": [
    "# highlight all speed limit 50 edges in the Frederiksberg network from earlier\n",
    "ec = [\"r\" if \"maxspeed\" in data and data[\"maxspeed\"] == \"50\" else \"w\" for u, v, key, data in G_fred.edges(keys=True, data=True)]\n",
    "fig, ax = ox.plot_graph(G_fred, node_size=0, edge_color=ec, edge_linewidth=1.5, edge_alpha=0.7)"
   ]
  },
  {
   "cell_type": "code",
   "execution_count": null,
   "metadata": {},
   "outputs": [],
   "source": [
    "# Show edges colored by length\n",
    "ec = ox.plot.get_edge_colors_by_attr(G_fred, attr=\"length\", cmap=\"viridis\")\n",
    "fig, ax = ox.plot_graph(\n",
    "    G_fred, node_color=\"w\", node_edgecolor=\"k\", node_size=20, edge_color=ec, edge_linewidth=2\n",
    ")"
   ]
  },
  {
   "cell_type": "markdown",
   "metadata": {},
   "source": [
    "## Part 4: saving networks to disk\n",
    "\n",
    "For more examples of saving and loading networks to/from disk, see [this notebook](05-save-load-networks.ipynb)."
   ]
  },
  {
   "cell_type": "code",
   "execution_count": null,
   "metadata": {},
   "outputs": [],
   "source": [
    "# save street network as GeoPackage to work with in GIS\n",
    "ox.save_graph_geopackage(G_fred, filepath=\"network.gpkg\")"
   ]
  },
  {
   "cell_type": "code",
   "execution_count": null,
   "metadata": {},
   "outputs": [],
   "source": [
    "# save street network as GraphML file to work with later in OSMnx or networkx or gephi\n",
    "ox.save_graphml(G_fred, filepath=\"network.graphml\")"
   ]
  },
  {
   "cell_type": "markdown",
   "metadata": {},
   "source": [
    "# Routing, speed imputation, and travel times\n",
    "\n",
    "Including parallelized shortest-path solving via built-in multiprocessing in OSMnx."
   ]
  },
  {
   "cell_type": "markdown",
   "metadata": {},
   "source": [
    "## 1. Fast nearest node/edge search with OSMnx\n",
    "\n",
    "The nearest_nodes and nearest_edges functions take arrays of x and y (or lng/lat) coordinates and return the nearest node/edge to each."
   ]
  },
  {
   "cell_type": "code",
   "execution_count": null,
   "metadata": {},
   "outputs": [],
   "source": [
    "# randomly sample n points spatially-constrained to the network's geometry\n",
    "points = ox.utils_geo.sample_points(ox.get_undirected(G_fred), n=30)\n",
    "X = points.x.values\n",
    "Y = points.y.values\n",
    "X0 = X.mean()\n",
    "Y0 = Y.mean()\n",
    "\n",
    "(points, X, Y, X0, Y0)"
   ]
  },
  {
   "cell_type": "code",
   "execution_count": null,
   "metadata": {},
   "outputs": [],
   "source": [
    "# find each nearest node to several points, and optionally return distance\n",
    "nodes, dists = ox.nearest_nodes(G_fred, X, Y, return_dist=True)\n",
    "(nodes[:4],dists[:4])"
   ]
  },
  {
   "cell_type": "code",
   "execution_count": null,
   "metadata": {},
   "outputs": [],
   "source": [
    "# or, find the nearest node to a single point\n",
    "node = ox.nearest_nodes(G_fred, X0, Y0)\n",
    "node"
   ]
  },
  {
   "cell_type": "code",
   "execution_count": null,
   "metadata": {},
   "outputs": [],
   "source": [
    "# find each nearest edge to several points, and optionally return distance\n",
    "edges, dists = ox.nearest_edges(G_fred, X, Y, return_dist=True)\n",
    "(edges[:4],dists[:4])"
   ]
  },
  {
   "cell_type": "code",
   "execution_count": null,
   "metadata": {},
   "outputs": [],
   "source": [
    "# find the nearest edge to a single point\n",
    "edge = ox.nearest_edges(G_fred, X0, Y0)\n",
    "edge"
   ]
  },
  {
   "cell_type": "markdown",
   "metadata": {},
   "source": [
    "## 2. Basic routing by distance\n",
    "\n",
    "Pick two nodes. Then find the shortest path between origin and destination, using weight='length' to find the shortest path by minimizing distance traveled (otherwise it treats each edge as weight=1)."
   ]
  },
  {
   "cell_type": "code",
   "execution_count": null,
   "metadata": {},
   "outputs": [],
   "source": [
    "# find the shortest path (by distance) between these nodes then plot it\n",
    "orig = list(G_fred)[41]\n",
    "dest = list(G_fred)[220]\n",
    "route = ox.shortest_path(G_fred, orig, dest, weight=\"length\")\n",
    "fig, ax = ox.plot_graph_route(G_fred, route, route_color=\"y\", route_linewidth=6, node_size=0)"
   ]
  },
  {
   "cell_type": "markdown",
   "metadata": {},
   "source": [
    "Or get *k* shortest paths, weighted by some attribute:"
   ]
  },
  {
   "cell_type": "code",
   "execution_count": null,
   "metadata": {},
   "outputs": [],
   "source": [
    "routes = ox.k_shortest_paths(G_fred, orig, dest, k=20, weight=\"length\")\n",
    "fig, ax = ox.plot_graph_routes(G_fred, list(routes), route_colors=\"y\", route_linewidth=4, node_size=0)"
   ]
  },
  {
   "cell_type": "markdown",
   "metadata": {},
   "source": [
    "## 3. Imputing travel speeds and times\n",
    "\n",
    "The `add_edge_speeds` function add edge speeds (km per hour) to graph as new `speed_kph` edge attributes. Imputes free-flow travel speeds for all edges based on mean `maxspeed` value of edges, per highway type. This mean-imputation can obviously be imprecise, and the caller can override it by passing in `hwy_speeds` and/or `fallback` arguments that correspond to local speed limit standards. See docstring for details."
   ]
  },
  {
   "cell_type": "code",
   "execution_count": null,
   "metadata": {},
   "outputs": [],
   "source": [
    "# impute speed on all edges missing data\n",
    "G = ox.add_edge_speeds(G_fred)\n",
    "\n",
    "# calculate travel time (seconds) for all edges\n",
    "G = ox.add_edge_travel_times(G)"
   ]
  },
  {
   "cell_type": "code",
   "execution_count": null,
   "metadata": {},
   "outputs": [],
   "source": [
    "# see mean speed/time values by road type\n",
    "edges = ox.graph_to_gdfs(G, nodes=False)\n",
    "edges[\"highway\"] = edges[\"highway\"].astype(str)\n",
    "edges.groupby(\"highway\")[[\"length\", \"speed_kph\", \"travel_time\"]].mean().round(1)"
   ]
  },
  {
   "cell_type": "code",
   "execution_count": null,
   "metadata": {},
   "outputs": [],
   "source": [
    "# same thing again, but this time pass in a few default speed values (km/hour)\n",
    "# to fill in edges with missing `maxspeed` from OSM\n",
    "hwy_speeds = {\"residential\": 30, \"secondary\": 50, \"tertiary\": 60}\n",
    "G = ox.add_edge_speeds(G, hwy_speeds)\n",
    "G = ox.add_edge_travel_times(G)"
   ]
  },
  {
   "cell_type": "code",
   "execution_count": null,
   "metadata": {},
   "outputs": [],
   "source": [
    "# calculate two routes by minimizing travel distance vs travel time\n",
    "orig = list(G)[1]\n",
    "dest = list(G)[120]\n",
    "route1 = ox.shortest_path(G, orig, dest, weight=\"length\")\n",
    "route2 = ox.shortest_path(G, orig, dest, weight=\"travel_time\")"
   ]
  },
  {
   "cell_type": "code",
   "execution_count": null,
   "metadata": {},
   "outputs": [],
   "source": [
    "# plot the routes\n",
    "fig, ax = ox.plot_graph_routes(\n",
    "    G, routes=[route1, route2], route_colors=[\"r\", \"y\"], route_linewidth=6, node_size=0\n",
    ")"
   ]
  },
  {
   "cell_type": "code",
   "execution_count": null,
   "metadata": {},
   "outputs": [],
   "source": [
    "# compare the two routes\n",
    "route1_length = int(sum(ox.utils_graph.get_route_edge_attributes(G, route1, \"length\")))\n",
    "route2_length = int(sum(ox.utils_graph.get_route_edge_attributes(G, route2, \"length\")))\n",
    "route1_time = int(sum(ox.utils_graph.get_route_edge_attributes(G, route1, \"travel_time\")))\n",
    "route2_time = int(sum(ox.utils_graph.get_route_edge_attributes(G, route2, \"travel_time\")))\n",
    "print(\"Route 1 is\", route1_length, \"meters and takes\", route1_time, \"seconds.\")\n",
    "print(\"Route 2 is\", route2_length, \"meters and takes\", route2_time, \"seconds.\")"
   ]
  },
  {
   "cell_type": "markdown",
   "metadata": {},
   "source": [
    "The yellow route minimizes travel time, and is thus longer but faster than the red route.\n",
    "\n",
    "For more examples of travel time, see the [isochrones example](https://github.com/gboeing/osmnx-examples/blob/main/notebooks/13-isolines-isochrones.ipynb).\n",
    "\n",
    "For more examples of routing, including using elevation as an impedance, see the [elevations example](https://github.com/gboeing/osmnx-examples/blob/main/notebooks/12-node-elevations-edge-grades.ipynb)."
   ]
  },
  {
   "cell_type": "markdown",
   "metadata": {},
   "source": [
    "## 4. Multiprocessing\n",
    "\n",
    "Calculating lots of shortest paths can be slow, but OSMnx has built-in shortest path solver parallelization and multiprocessing, see: https://github.com/gboeing/osmnx-examples/blob/main/notebooks/02-routing-speed-time.ipynb.\n",
    "\n",
    "I suggest to use igraph as a much faster alternative: https://igraph.org/python/"
   ]
  },
  {
   "cell_type": "markdown",
   "metadata": {
    "tags": []
   },
   "source": [
    "# Simplify network topology and consolidate intersections"
   ]
  },
  {
   "cell_type": "markdown",
   "metadata": {},
   "source": [
    "Complex intersection consolidation\n",
    "\n",
    "Many real-world street networks feature complex intersections and traffic circles, resulting in a cluster of graph nodes where there is really just one true intersection, as we would think of it in transportation or urban design. Similarly, divided roads are often represented by separate centerline edges: the intersection of two divided roads thus creates 4 nodes, representing where each edge intersects a perpendicular edge, but these 4 nodes represent a single intersection in the real world. Traffic circles similarly create a cluster of nodes where each street's edge intersects the roundabout.\n",
    "\n",
    "OSMnx can consolidate nearby intersections and optionally rebuild the graph's topology."
   ]
  },
  {
   "cell_type": "code",
   "execution_count": null,
   "metadata": {},
   "outputs": [],
   "source": [
    "# get a street network and plot it with all edge intersections\n",
    "point = 55.667708, 12.596266\n",
    "G = ox.graph_from_point(point, network_type=\"drive\", dist=500)\n",
    "ox.plot_graph(G, node_color=\"r\");"
   ]
  },
  {
   "cell_type": "markdown",
   "metadata": {},
   "source": [
    "Notice the complex intersections creating clusters of nodes.\n",
    "\n",
    "We'll specify that any nodes with 15 meter buffers of each other in this network are part of the same intersection. Adjust this tolerance based on the street design standards in the community you are examining, and use a projected graph to work in meaningful units like meters. We'll also specify that we do not want dead-ends returned in our list of consolidated intersections."
   ]
  },
  {
   "cell_type": "code",
   "execution_count": null,
   "metadata": {},
   "outputs": [],
   "source": [
    "# get a GeoSeries of consolidated intersections\n",
    "G_proj = ox.project_graph(G)\n",
    "intersections = ox.consolidate_intersections(\n",
    "    G_proj, rebuild_graph=False, tolerance=15, dead_ends=False\n",
    ")\n",
    "len(intersections)"
   ]
  },
  {
   "cell_type": "code",
   "execution_count": null,
   "metadata": {},
   "outputs": [],
   "source": [
    "# compare to number of nodes in original graph\n",
    "len(G)"
   ]
  },
  {
   "cell_type": "markdown",
   "metadata": {},
   "source": [
    "Note that these cleaned up intersections give us more accurate intersection counts and densities, but do not alter or integrate with the network's topology.\n",
    "\n",
    "To do that, we need to **rebuild the graph**."
   ]
  },
  {
   "cell_type": "code",
   "execution_count": null,
   "metadata": {},
   "outputs": [],
   "source": [
    "# consolidate intersections and rebuild graph topology\n",
    "# this reconnects edge geometries to the new consolidated nodes\n",
    "G2 = ox.consolidate_intersections(G_proj, rebuild_graph=True, tolerance=15, dead_ends=False)\n",
    "len(G2)"
   ]
  },
  {
   "cell_type": "code",
   "execution_count": null,
   "metadata": {},
   "outputs": [],
   "source": [
    "fig, ax = ox.plot_graph(G2, node_color=\"r\")"
   ]
  },
  {
   "cell_type": "markdown",
   "metadata": {},
   "source": [
    "Notice how the traffic circles' many nodes are merged into a new single centroid node, with edge geometries extended to connect to it. Similar consolidation occurs at the intersection of the divided roads.\n",
    "\n",
    "Running `consolidate_intersections` with `rebuild_graph=True` may yield somewhat (but not very) different intersection counts/densities compared to `rebuild_graph=False`. The difference lies in that the latter just merges buffered node points that overlap, whereas the former checks the topology of the overlapping node buffers before merging them.\n",
    "\n",
    "This prevents topologically remote but spatially proximate nodes from being merged. For example:\n",
    "\n",
    "  - A street intersection may lie directly below a freeway overpass's intersection with an on-ramp. We would not want to merge these together and connnect their edges: they are distinct junctions in the system of roads.\n",
    "  - In a residential neighborhood, a bollarded street may create a dead-end immediately next to an intersection or traffic circle. We would not want to merge this dead-end with the intersection and connect their edges.\n",
    "\n",
    "These examples illustrate (two-dimensional) geometric proximity, but topological remoteness. Accordingly, in some situations we may expect higher intersection counts when using `rebuild_graph=True` because it is more cautious with merging in these cases. The trade-off is that it has higher time complexity than `rebuild_graph=False`."
   ]
  },
  {
   "cell_type": "markdown",
   "metadata": {},
   "source": [
    "## Cleaning up the periphery of the network\n",
    "\n",
    "This is related to simplification. OSMnx by default (with clean_periphery parameter equal to True) buffers the area you request by 0.5km, and then retrieves the street network within this larger, buffered area. Then it simplifies the topology so that nodes represent intersections of streets (rather than including all the interstitial OSM nodes). Then it calculates the (undirected) degree of each node in this larger network. Next it truncates this network by the actual area you requested (either by bounding box, or by polygon). Finally it saves a dictionary of node degree values as a graph attribute.\n",
    "\n",
    "This has two primary benefits. First, it cleans up stray false edges around the periphery. If clean_periphery=False, peripheral non-intersection nodes within the requested area appear to be cul-de-sacs, as the rest of the edge leading to an intersection outside the area is ignored. If clean_periphery=True, the larger graph is first created, allowing simplification of such edges to their true intersections, allowing their entirety to be pruned after truncating down to the actual requested area. Second, it gives accurate node degrees by both a) counting node neighbors even if they fall outside the retained network (so you don't claim a degree-4 node is degree-2 because only 2 of its neighbors lie within the area), and b) not counting all those stray false edges' terminus nodes as cul-de-sacs that otherwise grossly inflate the count of nodes with degree=1, even though these nodes are really just interstitial nodes in the middle of a chopped-off street segment between intersections.\n",
    "\n",
    "See two examples below."
   ]
  },
  {
   "cell_type": "code",
   "execution_count": null,
   "metadata": {},
   "outputs": [],
   "source": [
    "# get some bbox\n",
    "bbox = ox.utils_geo.bbox_from_point((45.518698, -122.679964), dist=300)\n",
    "north, south, east, west = bbox"
   ]
  },
  {
   "cell_type": "code",
   "execution_count": null,
   "metadata": {},
   "outputs": [],
   "source": [
    "G = ox.graph_from_bbox(north, south, east, west, network_type=\"drive\", clean_periphery=False)\n",
    "ox.plot_graph(G, node_color=\"r\");"
   ]
  },
  {
   "cell_type": "code",
   "execution_count": null,
   "metadata": {},
   "outputs": [],
   "source": [
    "# the node degree distribution for this graph has many false cul-de-sacs\n",
    "k = dict(G.degree())\n",
    "{n: list(k.values()).count(n) for n in range(max(k.values()) + 1)}"
   ]
  },
  {
   "cell_type": "markdown",
   "metadata": {},
   "source": [
    "Above, notice all the peripheral stray edge stubs. Below, notice these are cleaned up and that the node degrees are accurate with regards to the wider street network that may extend beyond the limits of the requested area."
   ]
  },
  {
   "cell_type": "code",
   "execution_count": null,
   "metadata": {},
   "outputs": [],
   "source": [
    "G = ox.graph_from_bbox(north, south, east, west, network_type=\"drive\")\n",
    "ox.plot_graph(G, node_color=\"r\");"
   ]
  },
  {
   "cell_type": "code",
   "execution_count": null,
   "metadata": {},
   "outputs": [],
   "source": [
    "# the streets per node distribution for this cleaned up graph is more accurate\n",
    "# dict keys = count of streets emanating from the node (ie, intersections and dead-ends)\n",
    "# dict vals = number of nodes with that count\n",
    "k = nx.get_node_attributes(G, \"street_count\")\n",
    "{n: list(k.values()).count(n) for n in range(max(k.values()) + 1)}"
   ]
  },
  {
   "cell_type": "markdown",
   "metadata": {},
   "source": [
    "# Custom filters and other infrastructure types"
   ]
  },
  {
   "cell_type": "markdown",
   "metadata": {},
   "source": [
    "Use custom filters to fine-tune your network. OSMnx uses `network_type` presets to query for streets that allow walking, biking, driving, etc. You can override this by passing a `custom_filter` to specify specific OSM ways you want in your graph."
   ]
  },
  {
   "cell_type": "code",
   "execution_count": null,
   "metadata": {},
   "outputs": [],
   "source": [
    "place = {\"city\": \"Berkeley\", \"state\": \"California\"}\n",
    "\n",
    "# only get motorway ways\n",
    "cf = '[\"highway\"~\"motorway\"]'\n",
    "G = ox.graph_from_place(place, network_type=\"drive\", custom_filter=cf)\n",
    "print(len(G), \"motorway\")\n",
    "ox.plot_graph(G, node_color=\"r\");\n",
    "\n",
    "# only get primary ways\n",
    "cf = '[\"highway\"~\"primary\"]'\n",
    "G = ox.graph_from_place(place, network_type=\"drive\", custom_filter=cf)\n",
    "print(len(G), \"primary\")\n",
    "ox.plot_graph(G, node_color=\"r\");\n",
    "\n",
    "# use the pipe (|) as 'or' operator\n",
    "cf = '[\"highway\"~\"motorway|primary\"]'\n",
    "G = ox.graph_from_place(place, network_type=\"drive\", custom_filter=cf)\n",
    "print(len(G), \"motorway + primary\")\n",
    "ox.plot_graph(G, node_color=\"r\");"
   ]
  },
  {
   "cell_type": "code",
   "execution_count": null,
   "metadata": {},
   "outputs": [],
   "source": [
    "# network of the canals of amsterdam\n",
    "place = \"Amsterdam, Netherlands\"\n",
    "G = ox.graph_from_place(place, custom_filter='[\"waterway\"~\"canal\"]')\n",
    "ox.plot_graph(G, edge_color=\"c\", edge_linewidth=2, node_size=0);"
   ]
  },
  {
   "cell_type": "code",
   "execution_count": null,
   "metadata": {},
   "outputs": [],
   "source": [
    "# get NY subway rail network\n",
    "# note this is rail *infrastructure* and thus includes crossovers, sidings, spurs, yards, etc\n",
    "# for station-based rail network, you should download a station adjacency matrix elsewhere\n",
    "ox.settings.useful_tags_way += [\"railway\"]\n",
    "G = ox.graph_from_place(\n",
    "    \"New York, New York, USA\",\n",
    "    retain_all=False,\n",
    "    truncate_by_edge=True,\n",
    "    simplify=True,\n",
    "    custom_filter='[\"railway\"~\"subway\"]',\n",
    ")\n",
    "\n",
    "ox.plot_graph(G, node_size=0, edge_color=\"w\", edge_linewidth=0.2);"
   ]
  },
  {
   "cell_type": "markdown",
   "metadata": {},
   "source": [
    "To download the road network for an entire country, you often need to limit your query to something like motorways only, to fit in your computer's RAM. For large queries, such as the entire nation of Belgium, OSMnx will subdivide your query into multiple server requests to download all the data, then assemble the graph."
   ]
  },
  {
   "cell_type": "code",
   "execution_count": null,
   "metadata": {},
   "outputs": [],
   "source": [
    "# %%time\n",
    "# # get only motorways, trunks, and their links in all of Belgium\n",
    "# # takes a couple minutes to do all the downloading and processing\n",
    "# # OSMnx automatically divides up the query into multiple requests to not overload server\n",
    "# cf = '[\"highway\"~\"motorway|motorway_link|trunk|trunk_link\"]'\n",
    "# G = ox.graph_from_place(\"Belgium\", network_type=\"drive\", custom_filter=cf)\n",
    "# ox.plot_graph(G, node_size=0);"
   ]
  },
  {
   "cell_type": "markdown",
   "metadata": {},
   "source": [
    "Commented out because kernel dies in docker."
   ]
  },
  {
   "cell_type": "markdown",
   "metadata": {},
   "source": [
    "# pyrosm"
   ]
  },
  {
   "cell_type": "markdown",
   "metadata": {},
   "source": [
    "Use pyrosm instead for large data sets or for more flxibility with custom filters: https://pyrosm.readthedocs.io/en/latest/basics.html#read-street-networks"
   ]
  },
  {
   "cell_type": "code",
   "execution_count": null,
   "metadata": {},
   "outputs": [],
   "source": [
    "from pyrosm import OSM\n",
    "from pyrosm import get_data\n",
    "fp = get_data(\"helsinki_pbf\")\n",
    "# Initialize the OSM parser object\n",
    "osm = OSM(fp)"
   ]
  },
  {
   "cell_type": "code",
   "execution_count": null,
   "metadata": {},
   "outputs": [],
   "source": [
    "# Read POIs such as amenities and shops\n",
    "# =====================================\n",
    "\n",
    "# By default pyrosm reads all elements having \"amenity\", \"shop\" or \"tourism\" tag\n",
    "# Here, let's read only \"amenity\" and \"shop\" by applying a custom filter that\n",
    "# overrides the default filtering mechanism\n",
    "custom_filter = {'amenity': True, \"shop\": True}\n",
    "pois = osm.get_pois(custom_filter=custom_filter)\n",
    "\n",
    "# Gather info about POI type (combines the tag info from \"amenity\" and \"shop\")\n",
    "pois[\"poi_type\"] = pois[\"amenity\"]\n",
    "pois[\"poi_type\"] = pois[\"poi_type\"].fillna(pois[\"shop\"])\n",
    "\n",
    "# Plot\n",
    "ax = pois.plot(column='poi_type', markersize=3, figsize=(12,12), legend=True, legend_kwds=dict(loc='upper left', ncol=5, bbox_to_anchor=(1, 1)))"
   ]
  },
  {
   "cell_type": "code",
   "execution_count": null,
   "metadata": {},
   "outputs": [],
   "source": [
    "# Test reading all transit related data (bus, trains, trams, metro etc.)\n",
    "# Exclude nodes (not keeping stops, etc.)\n",
    "routes = [\"bus\", \"ferry\", \"railway\", \"subway\", \"train\", \"tram\", \"trolleybus\"]\n",
    "rails = [\"tramway\", \"light_rail\", \"rail\", \"subway\", \"tram\"]\n",
    "bus = ['yes']\n",
    "transit = osm.get_data_by_custom_criteria(custom_filter={\n",
    "                                        'route': routes,\n",
    "                                        'railway': rails,\n",
    "                                        'bus': bus,\n",
    "                                        'public_transport': True},\n",
    "                                        # Keep data matching the criteria above\n",
    "                                        filter_type=\"keep\",\n",
    "                                        # Do not keep nodes (point data)    \n",
    "                                        keep_nodes=False, \n",
    "                                        keep_ways=True, \n",
    "                                        keep_relations=True)\n",
    "ax = transit.plot()\n",
    "ax.axis(\"off\");"
   ]
  }
 ],
 "metadata": {
  "kernelspec": {
   "display_name": "Python 3 (ipykernel)",
   "language": "python",
   "name": "python3"
  },
  "language_info": {
   "codemirror_mode": {
    "name": "ipython",
    "version": 3
   },
   "file_extension": ".py",
   "mimetype": "text/x-python",
   "name": "python",
   "nbconvert_exporter": "python",
   "pygments_lexer": "ipython3",
   "version": "3.9.7"
  }
 },
 "nbformat": 4,
 "nbformat_minor": 4
}
