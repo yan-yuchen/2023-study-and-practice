{
 "cells": [
  {
   "cell_type": "code",
   "execution_count": 16,
   "metadata": {},
   "outputs": [
    {
     "data": {
      "text/html": [
       "<div>\n",
       "<style scoped>\n",
       "    .dataframe tbody tr th:only-of-type {\n",
       "        vertical-align: middle;\n",
       "    }\n",
       "\n",
       "    .dataframe tbody tr th {\n",
       "        vertical-align: top;\n",
       "    }\n",
       "\n",
       "    .dataframe thead th {\n",
       "        text-align: right;\n",
       "    }\n",
       "</style>\n",
       "<table border=\"1\" class=\"dataframe\">\n",
       "  <thead>\n",
       "    <tr style=\"text-align: right;\">\n",
       "      <th></th>\n",
       "      <th>Unnamed: 0</th>\n",
       "      <th>LATITUDE_O</th>\n",
       "      <th>LONGTITUDE_O</th>\n",
       "      <th>LATITUDE_D</th>\n",
       "      <th>LONGTITUDE_D</th>\n",
       "      <th>O_STIME</th>\n",
       "      <th>D_STIME</th>\n",
       "    </tr>\n",
       "  </thead>\n",
       "  <tbody>\n",
       "    <tr>\n",
       "      <th>0</th>\n",
       "      <td>0</td>\n",
       "      <td>45.758434</td>\n",
       "      <td>126.628525</td>\n",
       "      <td>45.780945</td>\n",
       "      <td>126.633250</td>\n",
       "      <td>05:32:31</td>\n",
       "      <td>05:43:18</td>\n",
       "    </tr>\n",
       "    <tr>\n",
       "      <th>1</th>\n",
       "      <td>1</td>\n",
       "      <td>45.771255</td>\n",
       "      <td>126.636320</td>\n",
       "      <td>45.704590</td>\n",
       "      <td>126.607540</td>\n",
       "      <td>05:50:46</td>\n",
       "      <td>06:07:20</td>\n",
       "    </tr>\n",
       "    <tr>\n",
       "      <th>2</th>\n",
       "      <td>2</td>\n",
       "      <td>45.701473</td>\n",
       "      <td>126.597460</td>\n",
       "      <td>45.700670</td>\n",
       "      <td>126.575480</td>\n",
       "      <td>06:10:10</td>\n",
       "      <td>06:14:37</td>\n",
       "    </tr>\n",
       "    <tr>\n",
       "      <th>3</th>\n",
       "      <td>3</td>\n",
       "      <td>45.728220</td>\n",
       "      <td>126.571390</td>\n",
       "      <td>45.762547</td>\n",
       "      <td>126.629486</td>\n",
       "      <td>06:26:48</td>\n",
       "      <td>06:42:50</td>\n",
       "    </tr>\n",
       "    <tr>\n",
       "      <th>4</th>\n",
       "      <td>4</td>\n",
       "      <td>45.757990</td>\n",
       "      <td>126.626625</td>\n",
       "      <td>45.724525</td>\n",
       "      <td>126.694750</td>\n",
       "      <td>06:54:14</td>\n",
       "      <td>07:16:16</td>\n",
       "    </tr>\n",
       "    <tr>\n",
       "      <th>...</th>\n",
       "      <td>...</td>\n",
       "      <td>...</td>\n",
       "      <td>...</td>\n",
       "      <td>...</td>\n",
       "      <td>...</td>\n",
       "      <td>...</td>\n",
       "      <td>...</td>\n",
       "    </tr>\n",
       "    <tr>\n",
       "      <th>207561</th>\n",
       "      <td>207561</td>\n",
       "      <td>45.756683</td>\n",
       "      <td>126.655014</td>\n",
       "      <td>45.761326</td>\n",
       "      <td>126.667470</td>\n",
       "      <td>16:33:15</td>\n",
       "      <td>16:40:36</td>\n",
       "    </tr>\n",
       "    <tr>\n",
       "      <th>207562</th>\n",
       "      <td>207562</td>\n",
       "      <td>45.758230</td>\n",
       "      <td>126.663840</td>\n",
       "      <td>45.772690</td>\n",
       "      <td>126.676220</td>\n",
       "      <td>16:44:26</td>\n",
       "      <td>16:54:09</td>\n",
       "    </tr>\n",
       "    <tr>\n",
       "      <th>207563</th>\n",
       "      <td>207563</td>\n",
       "      <td>45.775600</td>\n",
       "      <td>126.674286</td>\n",
       "      <td>45.764557</td>\n",
       "      <td>126.659190</td>\n",
       "      <td>16:55:25</td>\n",
       "      <td>17:06:44</td>\n",
       "    </tr>\n",
       "    <tr>\n",
       "      <th>207564</th>\n",
       "      <td>207564</td>\n",
       "      <td>45.787724</td>\n",
       "      <td>126.642420</td>\n",
       "      <td>45.753605</td>\n",
       "      <td>126.614430</td>\n",
       "      <td>18:39:24</td>\n",
       "      <td>18:58:23</td>\n",
       "    </tr>\n",
       "    <tr>\n",
       "      <th>207565</th>\n",
       "      <td>207565</td>\n",
       "      <td>45.759030</td>\n",
       "      <td>126.616440</td>\n",
       "      <td>45.767876</td>\n",
       "      <td>126.602936</td>\n",
       "      <td>19:00:29</td>\n",
       "      <td>19:13:01</td>\n",
       "    </tr>\n",
       "  </tbody>\n",
       "</table>\n",
       "<p>207566 rows × 7 columns</p>\n",
       "</div>"
      ],
      "text/plain": [
       "        Unnamed: 0  LATITUDE_O  LONGTITUDE_O  LATITUDE_D  LONGTITUDE_D  \\\n",
       "0                0   45.758434    126.628525   45.780945    126.633250   \n",
       "1                1   45.771255    126.636320   45.704590    126.607540   \n",
       "2                2   45.701473    126.597460   45.700670    126.575480   \n",
       "3                3   45.728220    126.571390   45.762547    126.629486   \n",
       "4                4   45.757990    126.626625   45.724525    126.694750   \n",
       "...            ...         ...           ...         ...           ...   \n",
       "207561      207561   45.756683    126.655014   45.761326    126.667470   \n",
       "207562      207562   45.758230    126.663840   45.772690    126.676220   \n",
       "207563      207563   45.775600    126.674286   45.764557    126.659190   \n",
       "207564      207564   45.787724    126.642420   45.753605    126.614430   \n",
       "207565      207565   45.759030    126.616440   45.767876    126.602936   \n",
       "\n",
       "         O_STIME   D_STIME  \n",
       "0       05:32:31  05:43:18  \n",
       "1       05:50:46  06:07:20  \n",
       "2       06:10:10  06:14:37  \n",
       "3       06:26:48  06:42:50  \n",
       "4       06:54:14  07:16:16  \n",
       "...          ...       ...  \n",
       "207561  16:33:15  16:40:36  \n",
       "207562  16:44:26  16:54:09  \n",
       "207563  16:55:25  17:06:44  \n",
       "207564  18:39:24  18:58:23  \n",
       "207565  19:00:29  19:13:01  \n",
       "\n",
       "[207566 rows x 7 columns]"
      ]
     },
     "execution_count": 16,
     "metadata": {},
     "output_type": "execute_result"
    }
   ],
   "source": [
    "import pandas as pd\n",
    "import datetime\n",
    "\n",
    "from  matplotlib import pyplot as plt\n",
    "\n",
    "OD=pd.read_csv(\"./data/160917_All_OD.csv\")\n",
    "OD"
   ]
  },
  {
   "cell_type": "code",
   "execution_count": 17,
   "metadata": {},
   "outputs": [],
   "source": [
    "OD['D_STIME']=pd.to_datetime(OD['D_STIME'],format='%H:%M:%S')"
   ]
  },
  {
   "cell_type": "code",
   "execution_count": 18,
   "metadata": {},
   "outputs": [],
   "source": [
    "# 分为早中晚\n",
    "\n",
    "s_date_1 = datetime.datetime.strptime('05:00:00','%H:%M:%S')\n",
    "e_date_1 = datetime.datetime.strptime('09:00:00','%H:%M:%S')\n",
    "\n",
    "s_date_2 = datetime.datetime.strptime('10:00:00','%H:%M:%S')\n",
    "e_date_2 = datetime.datetime.strptime('14:00:00','%H:%M:%S')\n",
    "\n",
    "s_date_3 = datetime.datetime.strptime('18:00:00','%H:%M:%S')\n",
    "e_date_3 = datetime.datetime.strptime('22:00:00','%H:%M:%S')\n",
    "\n",
    "Morning_peak=OD[(OD.D_STIME > pd.Timestamp(s_date_1)) & (OD.D_STIME < pd.Timestamp(e_date_1))]\n",
    "Noon_peak=OD[(OD.D_STIME > pd.Timestamp(s_date_2)) & (OD.D_STIME < pd.Timestamp(e_date_2))]\n",
    "Evening_peak=OD[(OD.D_STIME > pd.Timestamp(s_date_3)) & (OD.D_STIME < pd.Timestamp(e_date_3))]"
   ]
  },
  {
   "cell_type": "code",
   "execution_count": 26,
   "metadata": {},
   "outputs": [
    {
     "data": {
      "text/plain": [
       "Text(0, 0.5, 'Numbers of taxi trips')"
      ]
     },
     "execution_count": 26,
     "metadata": {},
     "output_type": "execute_result"
    },
    {
     "data": {
      "image/png": "[encoded data removed]",
      "text/plain": [
       "<Figure size 640x480 with 1 Axes>"
      ]
     },
     "metadata": {},
     "output_type": "display_data"
    }
   ],
   "source": [
    "OD['hour'] = [x.strftime('%H') for x in OD['D_STIME']] #提取小时数\n",
    "hour_count=OD.groupby('hour').count()\n",
    "hour_count=hour_count.reset_index()\n",
    "\n",
    "plt.plot(hour_count['hour'],hour_count['D_STIME'],'^:b')\n",
    "plt.xlabel('hour')\n",
    "plt.ylabel('Numbers of taxi trips')"
   ]
  },
  {
   "cell_type": "code",
   "execution_count": 28,
   "metadata": {},
   "outputs": [],
   "source": [
    "Morning_peak.to_csv('Morning_peak.csv')\n",
    "Noon_peak.to_csv('Noon_peak.csv')\n",
    "Evening_peak.to_csv('Evening_peak.csv')"
   ]
  },
  {
   "cell_type": "code",
   "execution_count": 29,
   "metadata": {},
   "outputs": [],
   "source": [
    "# Arcgis中核密度分析的像元值为 10、而搜索半径为 500"
   ]
  }
 ],
 "metadata": {
  "kernelspec": {
   "display_name": "base",
   "language": "python",
   "name": "python3"
  },
  "language_info": {
   "codemirror_mode": {
    "name": "ipython",
    "version": 3
   },
   "file_extension": ".py",
   "mimetype": "text/x-python",
   "name": "python",
   "nbconvert_exporter": "python",
   "pygments_lexer": "ipython3",
   "version": "3.9.13"
  },
  "orig_nbformat": 4,
  "vscode": {
   "interpreter": {
    "hash": "9d3dfda253458d162c522ca02e9a0ae1364b8215bff930fa03cee0dca092fe1a"
   }
  }
 },
 "nbformat": 4,
 "nbformat_minor": 2
}
