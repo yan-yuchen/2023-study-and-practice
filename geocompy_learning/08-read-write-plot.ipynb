{
  "cells": [
    {
      "attachments": {},
      "cell_type": "markdown",
      "id": "d46237b9",
      "metadata": {},
      "source": [
        "# Geographic data I/O {#read-write}\n",
        "\n",
        "## Prerequisites\n",
        "\n",
        "This chapter requires the following packages:\n"
      ]
    },
    {
      "cell_type": "code",
      "execution_count": 34,
      "id": "a4c30ce3",
      "metadata": {},
      "outputs": [],
      "source": [
        "import numpy as np\n",
        "import fiona\n",
        "import geopandas as gpd\n",
        "import shapely\n",
        "import rasterio"
      ]
    },
    {
      "cell_type": "code",
      "execution_count": 35,
      "id": "58e3cbe3",
      "metadata": {},
      "outputs": [
        {
          "name": "stderr",
          "output_type": "stream",
          "text": [
            "d:\\work\\miniconda3\\envs\\topojson\\lib\\site-packages\\pyproj\\datadir.py:38: UserWarning: pyproj unable to set database path.\n",
            "  _global_context_set_data_dir()\n"
          ]
        }
      ],
      "source": [
        "# 出现错误CRSError: Invalid projection: epsg:4326: 的解决方案\n",
        "# 因为装了多个版本的pyproj\n",
        "# 在anaconda的目录下搜一下其他的proj.db文件的路径\n",
        "# 复制路径在所装的环境文件夹下的Library文件夹下的那个路径，使用pyproj.datadir.set_data_dir()来更新目录\n",
        "import pyproj\n",
        "# pyproj.datadir.get_data_dir()\n",
        "path = 'D:\\work\\miniconda3\\Library\\share\\proj'\n",
        "pyproj.datadir.set_data_dir(path)"
      ]
    },
    {
      "cell_type": "code",
      "execution_count": 36,
      "id": "afab77e1",
      "metadata": {},
      "outputs": [],
      "source": [
        "#| echo: false\n",
        "import pandas as pd\n",
        "import matplotlib.pyplot as plt\n",
        "pd.options.display.max_rows = 6\n",
        "pd.options.display.max_columns = 6\n",
        "pd.options.display.max_colwidth = 35\n",
        "plt.rcParams['figure.figsize'] = (5, 5)"
      ]
    },
    {
      "attachments": {},
      "cell_type": "markdown",
      "id": "d5eeb5c4",
      "metadata": {},
      "source": [
        "## 介绍\n",
        "\n",
        "本章介绍地理数据的读写。\n",
        "地理数据导入对于地理计算至关重要：没有数据，现实世界的应用程序就不可能实现。\n",
        "数据输出也至关重要，使其他人能够使用您工作中产生的有价值的新数据集或改进的数据集。\n",
        "总的来说，这些导入/输出过程可以称为数据I/O。\n",
        "\n",
        "地理数据 I/O 通常在项目开始和结束时只需几行代码即可完成。\n",
        "它作为一个简单的一步过程经常被忽视。\n",
        "然而，在项目开始时犯下的错误（例如使用过时的或以某种方式有缺陷的数据集）可能会导致以后出现大问题，因此值得投入大量时间来确定哪些数据集可用，哪些数据集可用 可以找到它们以及如何检索它们。\n",
        "@sec-retriving-open-data 涵盖了这些主题，它描述了各种地理门户（总共包含许多 TB 的数据）以及如何使用它们。\n",
        "为了进一步简化数据访问，已经开发了许多用于下载地理数据的包，如 @sec-geographic-data-packages 中所述。\n",
        "\n",
        "有许多地理文件格式，每种格式都有优点和缺点，如 @sec-file-formats 中所述。\n",
        "@sec-data-input 和 @sec-data-output 节分别介绍了高效读取和写入格式文件的过程。\n",
        "最后一节 @sec-visual-outputs 演示了保存视觉输出（地图）的方法，为可视化上的 @sec-map-making 做准备。\n",
        "\n",
        "## 检索开放数据 {#sec-retriving-open-data}\n",
        "\n",
        "## 地理数据包 {#sec-geographic-data-packages}\n",
        "\n",
        "## 地理网络服务"
      ]
    },
    {
      "attachments": {},
      "cell_type": "markdown",
      "id": "8bfdf2b6",
      "metadata": {},
      "source": [
        "## 文件格式 {#sec-file-formats}\n",
        "\n",
        "地理数据集通常存储为文件或空间数据库。\n",
        "文件格式可以存储矢量或栅格数据，而空间数据库（例如 [PostGIS](https://postgis.net/)）可以存储这两种数据。\n",
        "种类繁多的文件格式可能看起来令人困惑，但自 20 世纪 60 年代 GIS 软件问世以来，第一个广泛分发的程序 ([SYMAP](https://news.harvard.edu/gazette/ 哈佛大学创建了用于空间分析的story/2011/10/the-invention-of-gis/)) [@coppock_history_1991]。\n",
        "\n",
        "GDAL（应发音为“goo-dal”，双“o”表示面向对象），地理空间数据抽象库，自 2000 年发布以来已经解决了与地理文件格式之间不兼容相关的许多问题。\n",
        "GDAL 提供了一个统一的高性能接口，用于读写多种栅格和矢量数据格式。\n",
        "许多开放和专有的 GIS 程序，包括 GRASS、ArcGIS 和 QGIS，都在其 GUI 后面使用 GDAL 来以适当的格式进行摄取和吐出地理数据的工作。\n",
        "\n",
        "GDAL 提供对 200 多种矢量和栅格数据格式的访问。\n",
        "@tbl-file-formats 提供有关选定且常用的空间文件格式的一些基本信息。\n",
        "\n",
        "名称 | 扩展| 信息 | 类型 | 型号|\n",
        "|-----|----|----------|-----|-----|\n",
        "ESRI 形状文件 | `.shp`（主文件）| 流行的格式至少包含三个文件。 不支持：文件 > 2GB；混合类型； 名称 > 10 个字符； 列 > 255。 矢量| 部分开放 |\n",
        "GeoJSON | `.geojson` | 通过包含简单特征表示的子集来扩展 JSON 交换格式； 主要用于存储经度和纬度坐标； 它由 TopoJSON 格式扩展 | 矢量| 打开|\n",
        "KML | `.kml` | 基于 XML 的空间可视化格式，专为与 Google Earth 一起使用而开发。 压缩的 KML 文件形成 KMZ 格式。 | 矢量| 打开|\n",
        "GPX | `.gpx` | 为交换 GPS 数据而创建的 XML 架构。 | 矢量| 打开|\n",
        "FlatGeobuf | `.fgb` | 单一文件格式允许快速读取和写入矢量数据。 具有流媒体功能。 | 矢量| 打开|\n",
        "GeoTIFF | `.tif/.tiff` | 流行的光栅格式。 包含附加空间元数据的 TIFF 文件。 | 光栅| 打开|\n",
        "弧形 ASCII | `.asc` | 文本格式，其中前六行表示栅格标题，后面是按行和列排列的栅格像元值。 | 光栅| 打开|\n",
        "SQLite/SpatiaLite | `.sqlite` | 独立的关系数据库 SpatiaLite 是 SQLite 的空间扩展。 | 矢量和光栅| 打开|\n",
        "ESRI 文件GDB | `.gdb` | ArcGIS 创建的空间和非空间对象。 允许：多个要素类； 拓扑。 GDAL 的支持有限。 | 矢量和光栅| 专有|\n",
        "地理包| `.gpkg` | 基于 SQLite 的轻量级数据库容器允许轻松且独立于平台的地理数据交换 | 矢量和（非常有限）光栅| 打开|\n",
        "：常用的空间数据文件格式{#tbl-file-formats}"
      ]
    },
    {
      "attachments": {},
      "cell_type": "markdown",
      "id": "670d6b88",
      "metadata": {},
      "source": [
        "确保文件格式标准化和开源的一项重要发展是 1994 年开放地理空间联盟 ([OGC](http://www.opengeospatial.org/)) 的成立。\n",
        "除了定义简单要素数据模型（请参阅@sec-simple-features）之外，OGC 还协调开放标准的开发，例如 KML 和 GeoPackage 等文件格式中使用的标准。\n",
        "OGC 认可的开放文件格式与专有格式相比有几个优点：标准已发布，确保透明度并为用户提供了根据其特定需求进一步开发和调整文件格式的可能性。\n",
        "\n",
        "ESRI Shapefile 是最流行的矢量数据交换格式； 然而，它不是一种开放格式（尽管其规范是开放的）。\n",
        "它于 20 世纪 90 年代初开发，有许多局限性。\n",
        "首先，它是一种多文件格式，至少由三个文件组成。\n",
        "它仅支持 255 列，列名称限制为 10 个字符，文件大小限制为 2 GB。\n",
        "此外，ESRI Shapefile 不支持所有可能的几何类型，例如，它无法区分多边形和多边形。\n",
        "尽管存在这些限制，但长期以来一直缺乏可行的替代方案。\n",
        "与此同时，[GeoPackage](https://www.geopackage.org/) 出现了，并且似乎是 ESRI Shapefile 的更合适的替代候选者。\n",
        "GeoPackage 是一种用于交换地理空间信息的格式和 OGC 标准。\n",
        "GeoPackage 标准描述了如何在小型 SQLite 容器中存储地理空间信息的规则。\n",
        "因此，GeoPackage 是一个轻量级的空间数据库容器，它允许存储矢量和栅格数据，也允许存储非空间数据和扩展。\n",
        "除了 GeoPackage 之外，还有其他值得一试的地理空间数据交换格式（@tbl-file-formats）。\n",
        "\n",
        "GeoTIFF 格式似乎是最著名的栅格数据格式。\n",
        "它允许将空间信息（例如 CRS 定义和变换矩阵（请参阅@sec-using-rasterio））嵌入到 TIFF 文件中。\n",
        "与 ESRI Shapefile 类似，该格式最初于 20 世纪 90 年代开发，但作为一种开放格式。\n",
        "此外，GeoTIFF 仍在扩展和改进中。\n",
        "GeoTIFF 格式最近最重要的新增内容之一是其名为 COG（云优化 GeoTIFF）的变体。\n",
        "保存为 COG 的栅格对象可以托管在 HTTP 服务器上，因此其他人只能读取文件的部分内容，而无需下载整个文件（请参阅第 8.6.2 节和第 8.7.2 节...）。\n",
        "\n",
        "由于书籍限制，还有大量其他空间数据格式，我们没有在 @tbl-file-formats 中详细解释或提及。\n",
        "如果您需要使用其他格式，我们鼓励您阅读有关 [矢量](https://gdal.org/drivers/vector/index.html) 和 [光栅](https://gdal.org/) 的 GDAL 文档 drivers/raster/index.html) 驱动程序。\n",
        "此外，某些空间数据格式可以存储矢量或栅格以外的其他数据模型（类型）。\n",
        "它包括用于存储激光雷达点云的 LAS 和 LAZ 格式，以及用于存储多维数组的 NetCDF 和 HDF。\n",
        "\n",
        "最后，空间数据通常还使用表格（非空间）文本格式存储，包括 CSV 文件或 Excel 电子表格。\n",
        "这可以方便地与那些对空间数据格式有困难的人或软件共享空间数据集。"
      ]
    },
    {
      "attachments": {},
      "cell_type": "markdown",
      "id": "1a20ae12",
      "metadata": {},
      "source": [
        "## 数据输入 (I) \n",
        "\n",
        "执行“geopandas.read_file”（我们用于加载矢量数据的主函数）或“rasterio.open”+“.read”（用于加载栅格数据的主函数）等命令会默默地引发一系列读取事件 来自文件的数据。\n",
        "此外，有许多 Python 包包含广泛的地理数据或提供对不同数据源的简单访问。\n",
        "所有这些都将数据加载到 Python 环境中，或者更准确地说，将对象分配到工作区，存储在 RAM 中并在 Python 会话中访问。\n",
        "\n",
        "### 矢量数据\n",
        "\n",
        "空间矢量数据有多种文件格式。\n",
        "最流行的表示形式，如“.shp”、“.geojson”和“.gpkg”文件可以使用“geopandas”函数“read_file”和“to_file”导入和导出（在 \\@ref(sec-data- 输出）），分别。\n",
        "\n",
        "`geopandas` 使用 GDAL 通过 `fiona` （[默认](https://github.com/geopandas/geopandas/issues/2217)）或 `pyogrio` 包（最近开发的替代方案 `fiona`）来读取和写入数据 菲奥娜`）。\n",
        "导入“fiona”后，可以使用命令“fiona.supported_drivers”列出 GDAL 可用的驱动程序，包括它们是否可以（“r”）、附加（“a”）或写入（“w”）数据， 或全部三个："
      ]
    },
    {
      "cell_type": "code",
      "execution_count": 37,
      "id": "e289631d",
      "metadata": {},
      "outputs": [
        {
          "data": {
            "text/plain": [
              "{'DXF': 'rw',\n",
              " 'CSV': 'raw',\n",
              " 'OpenFileGDB': 'raw',\n",
              " 'ESRIJSON': 'r',\n",
              " 'ESRI Shapefile': 'raw',\n",
              " 'FlatGeobuf': 'raw',\n",
              " 'GeoJSON': 'raw',\n",
              " 'GeoJSONSeq': 'raw',\n",
              " 'GPKG': 'raw',\n",
              " 'GML': 'rw',\n",
              " 'OGR_GMT': 'rw',\n",
              " 'GPX': 'rw',\n",
              " 'Idrisi': 'r',\n",
              " 'MapInfo File': 'raw',\n",
              " 'DGN': 'raw',\n",
              " 'PCIDSK': 'raw',\n",
              " 'OGR_PDS': 'r',\n",
              " 'S57': 'r',\n",
              " 'SQLite': 'raw',\n",
              " 'TopoJSON': 'r',\n",
              " 'KML': 'r'}"
            ]
          },
          "execution_count": 37,
          "metadata": {},
          "output_type": "execute_result"
        }
      ],
      "source": [
        "fiona.supported_drivers"
      ]
    },
    {
      "attachments": {},
      "cell_type": "markdown",
      "id": "454bd80e",
      "metadata": {},
      "source": [
        "其他不太常见的驱动程序可以通过手动补充“fiona.supported_drivers”来[“激活”](https://geopandas.org/en/stable/docs/user_guide/io.html)。\n",
        "“geopandas”多功能数据导入函数“gpd.read_file”的第一个参数是“filename”，它通常是一个字符串，但也可以是一个文件连接。\n",
        "字符串的内容可能因不同的驱动程序而异。\n",
        "在大多数情况下，与 ESRI Shapefile (`.shp`) 或 GeoPackage 格式 (`.gpkg`) 一样，`filename` 参数将是实际文件的路径或 URL，例如 `geodata.gpkg` 。\n",
        "根据文件扩展名自动选择驱动程序，如下面的“.gpkg”文件所示：\n"
      ]
    },
    {
      "cell_type": "code",
      "execution_count": 38,
      "id": "3d08f59d",
      "metadata": {},
      "outputs": [
        {
          "data": {
            "text/html": [
              "<div>\n",
              "<style scoped>\n",
              "    .dataframe tbody tr th:only-of-type {\n",
              "        vertical-align: middle;\n",
              "    }\n",
              "\n",
              "    .dataframe tbody tr th {\n",
              "        vertical-align: top;\n",
              "    }\n",
              "\n",
              "    .dataframe thead th {\n",
              "        text-align: right;\n",
              "    }\n",
              "</style>\n",
              "<table border=\"1\" class=\"dataframe\">\n",
              "  <thead>\n",
              "    <tr style=\"text-align: right;\">\n",
              "      <th></th>\n",
              "      <th>iso_a2</th>\n",
              "      <th>name_long</th>\n",
              "      <th>continent</th>\n",
              "      <th>...</th>\n",
              "      <th>lifeExp</th>\n",
              "      <th>gdpPercap</th>\n",
              "      <th>geometry</th>\n",
              "    </tr>\n",
              "  </thead>\n",
              "  <tbody>\n",
              "    <tr>\n",
              "      <th>0</th>\n",
              "      <td>FJ</td>\n",
              "      <td>Fiji</td>\n",
              "      <td>Oceania</td>\n",
              "      <td>...</td>\n",
              "      <td>69.960000</td>\n",
              "      <td>8222.253784</td>\n",
              "      <td>MULTIPOLYGON (((-180.00000 -16....</td>\n",
              "    </tr>\n",
              "    <tr>\n",
              "      <th>1</th>\n",
              "      <td>TZ</td>\n",
              "      <td>Tanzania</td>\n",
              "      <td>Africa</td>\n",
              "      <td>...</td>\n",
              "      <td>64.163000</td>\n",
              "      <td>2402.099404</td>\n",
              "      <td>MULTIPOLYGON (((33.90371 -0.950...</td>\n",
              "    </tr>\n",
              "    <tr>\n",
              "      <th>2</th>\n",
              "      <td>EH</td>\n",
              "      <td>Western Sahara</td>\n",
              "      <td>Africa</td>\n",
              "      <td>...</td>\n",
              "      <td>NaN</td>\n",
              "      <td>NaN</td>\n",
              "      <td>MULTIPOLYGON (((-8.66559 27.656...</td>\n",
              "    </tr>\n",
              "    <tr>\n",
              "      <th>...</th>\n",
              "      <td>...</td>\n",
              "      <td>...</td>\n",
              "      <td>...</td>\n",
              "      <td>...</td>\n",
              "      <td>...</td>\n",
              "      <td>...</td>\n",
              "      <td>...</td>\n",
              "    </tr>\n",
              "    <tr>\n",
              "      <th>174</th>\n",
              "      <td>XK</td>\n",
              "      <td>Kosovo</td>\n",
              "      <td>Europe</td>\n",
              "      <td>...</td>\n",
              "      <td>71.097561</td>\n",
              "      <td>8698.291559</td>\n",
              "      <td>MULTIPOLYGON (((20.59025 41.855...</td>\n",
              "    </tr>\n",
              "    <tr>\n",
              "      <th>175</th>\n",
              "      <td>TT</td>\n",
              "      <td>Trinidad and Tobago</td>\n",
              "      <td>North America</td>\n",
              "      <td>...</td>\n",
              "      <td>70.426000</td>\n",
              "      <td>31181.821196</td>\n",
              "      <td>MULTIPOLYGON (((-61.68000 10.76...</td>\n",
              "    </tr>\n",
              "    <tr>\n",
              "      <th>176</th>\n",
              "      <td>SS</td>\n",
              "      <td>South Sudan</td>\n",
              "      <td>Africa</td>\n",
              "      <td>...</td>\n",
              "      <td>55.817000</td>\n",
              "      <td>1935.879400</td>\n",
              "      <td>MULTIPOLYGON (((30.83385 3.5091...</td>\n",
              "    </tr>\n",
              "  </tbody>\n",
              "</table>\n",
              "<p>177 rows × 11 columns</p>\n",
              "</div>"
            ],
            "text/plain": [
              "    iso_a2            name_long      continent  ...    lifeExp     gdpPercap  \\\n",
              "0       FJ                 Fiji        Oceania  ...  69.960000   8222.253784   \n",
              "1       TZ             Tanzania         Africa  ...  64.163000   2402.099404   \n",
              "2       EH       Western Sahara         Africa  ...        NaN           NaN   \n",
              "..     ...                  ...            ...  ...        ...           ...   \n",
              "174     XK               Kosovo         Europe  ...  71.097561   8698.291559   \n",
              "175     TT  Trinidad and Tobago  North America  ...  70.426000  31181.821196   \n",
              "176     SS          South Sudan         Africa  ...  55.817000   1935.879400   \n",
              "\n",
              "                               geometry  \n",
              "0    MULTIPOLYGON (((-180.00000 -16....  \n",
              "1    MULTIPOLYGON (((33.90371 -0.950...  \n",
              "2    MULTIPOLYGON (((-8.66559 27.656...  \n",
              "..                                  ...  \n",
              "174  MULTIPOLYGON (((20.59025 41.855...  \n",
              "175  MULTIPOLYGON (((-61.68000 10.76...  \n",
              "176  MULTIPOLYGON (((30.83385 3.5091...  \n",
              "\n",
              "[177 rows x 11 columns]"
            ]
          },
          "execution_count": 38,
          "metadata": {},
          "output_type": "execute_result"
        }
      ],
      "source": [
        "world = gpd.read_file('data/world.gpkg')\n",
        "world"
      ]
    },
    {
      "attachments": {},
      "cell_type": "markdown",
      "id": "b4f224e1",
      "metadata": {},
      "source": [
        "对于某些驱动程序，例如文件地理数据库（“OpenFileGDB”），“文件名”可以作为文件夹名称提供。\n",
        "GeoJSON 字符串也可以从字符串中读取：\n"
      ]
    },
    {
      "cell_type": "code",
      "execution_count": 39,
      "id": "95243e40",
      "metadata": {},
      "outputs": [
        {
          "data": {
            "text/html": [
              "<div>\n",
              "<style scoped>\n",
              "    .dataframe tbody tr th:only-of-type {\n",
              "        vertical-align: middle;\n",
              "    }\n",
              "\n",
              "    .dataframe tbody tr th {\n",
              "        vertical-align: top;\n",
              "    }\n",
              "\n",
              "    .dataframe thead th {\n",
              "        text-align: right;\n",
              "    }\n",
              "</style>\n",
              "<table border=\"1\" class=\"dataframe\">\n",
              "  <thead>\n",
              "    <tr style=\"text-align: right;\">\n",
              "      <th></th>\n",
              "      <th>geometry</th>\n",
              "    </tr>\n",
              "  </thead>\n",
              "  <tbody>\n",
              "    <tr>\n",
              "      <th>0</th>\n",
              "      <td>POINT (34.83885 31.29630)</td>\n",
              "    </tr>\n",
              "  </tbody>\n",
              "</table>\n",
              "</div>"
            ],
            "text/plain": [
              "                    geometry\n",
              "0  POINT (34.83885 31.29630)"
            ]
          },
          "execution_count": 39,
          "metadata": {},
          "output_type": "execute_result"
        }
      ],
      "source": [
        "gpd.read_file('{\"type\":\"Point\",\"coordinates\":[34.838848,31.296301]}')"
      ]
    },
    {
      "attachments": {},
      "cell_type": "markdown",
      "id": "00fb9036",
      "metadata": {},
      "source": [
        "或者，可以使用“gpd.read_postgis”函数从 PostGIS 数据库读取矢量图层。\n",
        "\n",
        "某些矢量格式（例如 GeoPackage）可以存储多个数据层。\n",
        "默认情况下，`gpd.read_file`自动读取`filename`中指定的文件的第一层。\n",
        "但是，使用“layer”参数您可以指定任何其他层。\n",
        "\n",
        "`gpd.read_file` 函数还允许通过两种可能的机制将文件的一部分读入 RAM。\n",
        "第一个与“where”参数相关，它允许使用 SQL“WHERE”表达式指定要读取数据的哪一部分。\n",
        "下面的示例仅提取坦桑尼亚的数据（图...）。\n",
        "这是通过指定我们想要获取 `name_long` 等于 `\"Tanzania\"` 的所有行来完成的：\n"
      ]
    },
    {
      "cell_type": "code",
      "execution_count": 40,
      "id": "e7cf75f4",
      "metadata": {},
      "outputs": [
        {
          "data": {
            "text/html": [
              "<div>\n",
              "<style scoped>\n",
              "    .dataframe tbody tr th:only-of-type {\n",
              "        vertical-align: middle;\n",
              "    }\n",
              "\n",
              "    .dataframe tbody tr th {\n",
              "        vertical-align: top;\n",
              "    }\n",
              "\n",
              "    .dataframe thead th {\n",
              "        text-align: right;\n",
              "    }\n",
              "</style>\n",
              "<table border=\"1\" class=\"dataframe\">\n",
              "  <thead>\n",
              "    <tr style=\"text-align: right;\">\n",
              "      <th></th>\n",
              "      <th>iso_a2</th>\n",
              "      <th>name_long</th>\n",
              "      <th>continent</th>\n",
              "      <th>...</th>\n",
              "      <th>lifeExp</th>\n",
              "      <th>gdpPercap</th>\n",
              "      <th>geometry</th>\n",
              "    </tr>\n",
              "  </thead>\n",
              "  <tbody>\n",
              "    <tr>\n",
              "      <th>0</th>\n",
              "      <td>TZ</td>\n",
              "      <td>Tanzania</td>\n",
              "      <td>Africa</td>\n",
              "      <td>...</td>\n",
              "      <td>64.163</td>\n",
              "      <td>2402.099404</td>\n",
              "      <td>MULTIPOLYGON (((33.90371 -0.950...</td>\n",
              "    </tr>\n",
              "  </tbody>\n",
              "</table>\n",
              "<p>1 rows × 11 columns</p>\n",
              "</div>"
            ],
            "text/plain": [
              "  iso_a2 name_long continent  ... lifeExp    gdpPercap  \\\n",
              "0     TZ  Tanzania    Africa  ...  64.163  2402.099404   \n",
              "\n",
              "                             geometry  \n",
              "0  MULTIPOLYGON (((33.90371 -0.950...  \n",
              "\n",
              "[1 rows x 11 columns]"
            ]
          },
          "execution_count": 40,
          "metadata": {},
          "output_type": "execute_result"
        }
      ],
      "source": [
        "tanzania = gpd.read_file('data/world.gpkg', where='name_long=\"Tanzania\"')\n",
        "tanzania"
      ]
    },
    {
      "attachments": {},
      "cell_type": "markdown",
      "id": "32f37f46",
      "metadata": {},
      "source": [
        "如果您不知道可用列的名称，一个好的方法是使用“rows”参数仅读取一行数据，该参数可用于读取前 N 行，然后使用“.columns”属性 检查列名：\n"
      ]
    },
    {
      "cell_type": "code",
      "execution_count": 41,
      "id": "99adc596",
      "metadata": {},
      "outputs": [
        {
          "data": {
            "text/plain": [
              "Index(['iso_a2', 'name_long', 'continent', 'region_un', 'subregion', 'type',\n",
              "       'area_km2', 'pop', 'lifeExp', 'gdpPercap', 'geometry'],\n",
              "      dtype='object')"
            ]
          },
          "execution_count": 41,
          "metadata": {},
          "output_type": "execute_result"
        }
      ],
      "source": [
        "gpd.read_file('data/world.gpkg', rows=1).columns"
      ]
    },
    {
      "attachments": {},
      "cell_type": "markdown",
      "id": "2a6cf5c2",
      "metadata": {},
      "source": [
        "第二种机制使用“mask”参数根据与现有几何图形的交集来过滤数据。\n",
        "该参数需要一个几何图形（“GeoDataFrame”、“GeoSeries”或“shapely”）来表示我们要提取数据的区域。\n",
        "让我们用一个小例子来尝试一下——我们想要从文件中读取与坦桑尼亚边界 50,000 $m$ 缓冲区相交的多边形。\n",
        "为此，我们需要 (a) 将几何图形转换为投影的 CRS（例如 EPSG:32736），(b) 通过创建缓冲区 (@sec-buffers) 准备我们的“过滤器”，以及 (c) 转换回来 到原始 CRS 用作掩码：\n"
      ]
    },
    {
      "cell_type": "code",
      "execution_count": 42,
      "id": "cfffe9fe",
      "metadata": {},
      "outputs": [
        {
          "data": {
            "image/svg+xml": [
              "<svg xmlns=\"http://www.w3.org/2000/svg\" xmlns:xlink=\"http://www.w3.org/1999/xlink\" width=\"100.0\" height=\"100.0\" viewBox=\"28.41517483262237 -12.647165814289291 12.828851841561068 12.624292383401512\" preserveAspectRatio=\"xMinYMin meet\"><g transform=\"matrix(1,0,0,-1,0,-12.67003924517707)\"><path fill-rule=\"evenodd\" fill=\"#66cc99\" stroke=\"#555555\" stroke-width=\"0.25657703683122135\" opacity=\"0.6\" d=\"M 30.26282844104446,-3.183144490588939 L 30.20254890378251,-3.1196339818142205 L 30.17248632715356,-3.084517293617071 L 30.146160655725176,-3.046491453853081 L 30.12384793899257,-3.0059564198077875 L 30.105781968064168,-2.9633383905550787 L 30.092151858336035,-2.9190853270931814 L 30.083100102389835,-2.8736622509514116 L 30.025287079958144,-2.479972069096135 L 30.02528344491491,-2.4799473198735926 L 30.020938611425183,-2.434764220333864 L 30.021122303281256,-2.3893707167893483 L 30.02583222051605,-2.3442246053971885 L 30.035020497260295,-2.299781154300982 L 30.04859419572278,-2.256488534387196 L 30.066416247829686,-2.2147833212331385 L 30.08830683517693,-2.1750861122589065 L 30.11404519392478,-2.1377973020862395 L 30.143371827315946,-2.103293057734323 L 30.175991104646055,-2.0719215335418775 L 30.211574221785483,-2.0439993635946685 L 30.24976249477472,-2.019808466953723 L 30.29017095463178,-1.999593198127845 L 30.337256593056626,-1.9789346790095965 L 30.352679126100988,-1.8223216385640566 L 30.052732904084927,-1.395766072546022 L 30.029149083620908,-1.358491738855352 L 30.0092962279285,-1.3190779943147615 L 29.99336372163447,-1.2779017675880913 L 29.98150347658179,-1.2353567522028186 L 29.973828503144286,-1.1918496525453106 L 29.970411850523988,-1.1477963095322952 L 29.97128592504307,-1.1036177421611317 L 29.976442192087507,-1.0597361417633449 L 29.985831264000836,-1.016570856119858 L 29.999363372875226,-0.9745344006438064 L 30.01690922385153,-0.9340285336022418 L 30.038301221228945,-0.895440431829577 L 30.063335056408647,-0.8591390025819506 L 30.091771643466966,-0.825471366087746 L 30.12333938498986,-0.7947595419629419 L 30.157736747723582,-0.7672973709748376 L 30.194635124633837,-0.7433477016537184 L 30.233681957149475,-0.7231398689708581 L 30.274504088733504,-0.7068674897279633 L 30.625147488481037,-0.5866706992867649 L 30.67410934938728,-0.572941456155213 L 30.72430042856164,-0.5648698092390988 L 30.775077834117766,-0.5625597795988081 L 31.860305145961913,-0.5749885597515287 L 33.88666934719202,-0.4980160916863382 L 33.932439889342774,-0.4986190192089833 L 33.97791142225333,-0.5039066531305141 L 34.022612081823624,-0.5138239282521583 L 34.06607804394508,-0.5282677316929025 L 34.107858337369024,-0.5470879831549441 L 34.147519520316465,-0.5700892029755376 L 34.304598690270936,-0.6722435405517597 L 37.91640443757128,-2.7029533704451043 L 37.952461542218245,-2.7254128092992222 L 37.98624638841988,-2.751195733732072 L 38.01745724837519,-2.7800711842682544 L 38.04581540588134,-2.8117806577282574 L 38.07106762063237,-2.8460404205520606 L 38.092988366200494,-2.882544042018674 L 38.11138182299732,-2.9209651248183777 L 38.126083609635394,-2.960960208939952 L 38.136962238312876,-3.002171823547762 L 38.14392028210872,-3.0442316604384496 L 38.188521242528694,-3.4229499154639154 L 39.45693743684009,-4.306943826545426 L 39.490629661615216,-4.332779154696643 L 39.52173843076651,-4.361692831147783 L 39.54998587369572,-4.393425827588649 L 39.57511965309089,-4.427694031517054 L 39.596915190219875,-4.464190780131521 L 39.61517764653878,-4.5025895891416985 L 39.629743645302334,-4.5425470526996055 L 39.64048271897427,-4.583705889423031 L 39.64729847040496,-4.625698108442694 L 39.6501294379608,-4.6681482685483475 L 39.64894965705185,-4.710676802833586 L 39.64376891280801,-4.752903380738305 L 39.63463268099947,-4.794450279061696 L 39.621621756686615,-4.8349457333666574 L 39.19840100188517,-5.967475899326185 L 39.22275746899227,-6.199151652674405 L 39.661975637187226,-6.449266215957578 L 39.697645049821894,-6.471818570877369 L 39.7310433839169,-6.4976140293273765 L 39.7618770781998,-6.526425089632183 L 39.789875066225626,-6.557997837960881 L 39.81479112774431,-6.592054177698367 L 39.836406026480496,-6.628294264819107 L 39.85452941696226,-6.666399128318568 L 39.86900150485953,-6.706033453424151 L 39.879694447187696,-6.746848504147111 L 39.88651348068496,-6.788485160744081 L 39.91670413179036,-7.048224515540583 L 39.919577115910755,-7.088703081159966 L 39.91878372953379,-7.1292754221968275 L 39.914329438919424,-7.169611090491764 L 39.9062494541289,-7.2093814605101665 L 39.89460848053629,-7.24826238480051 L 39.87950023405276,-7.285936817689379 L 39.66388918099957,-7.760327639622257 L 39.695018030213795,-7.924350526509454 L 39.70146451574547,-7.972184334961127 L 39.70273170733901,-8.020431006131751 L 39.69880321435509,-8.06853521251033 L 39.65396897975959,-8.398262949575491 L 39.93062917101121,-8.894087682774272 L 39.953049127673104,-8.940143109842813 L 40.309995513967706,-9.789677305589466 L 40.55001313935429,-9.93281575500245 L 40.55001690343132,-9.93281800152358 L 40.58688981910447,-9.957341936512409 L 40.621164261662024,-9.985324281442477 L 40.652511521188345,-10.016495914300029 L 40.68063079109766,-10.050557248121255 L 40.705252012722,-10.087181088099495 L 40.72613843662833,-10.12601574453691 L 40.743088877955586,-10.166688373052404 L 40.7559396454803,-10.208808511692043 L 40.76456612664216,-10.251971783051172 L 40.76888401338488,-10.295763728199566 L 40.768850156398464,-10.339763738099384 L 40.76446303819145,-10.383549047315705 L 40.755762858385026,-10.426698754144306 L 40.74283122771409,-10.468797830825084 L 40.72579047044721,-10.509441087284301 L 40.70480253830097,-10.54823705186965 L 40.6800675424163,-10.584811732827294 L 40.65182191357098,-10.61881222484372 L 40.62033620449803,-10.649910125858113 L 40.58591255192816,-10.677804730567727 L 39.790782653997084,-11.258558898602452 L 39.75450913626233,-11.282420605100937 L 39.7160812567676,-11.30274498435753 L 39.67585183291505,-11.319344116917023 L 38.58160204689309,-11.708959279884523 L 38.54120258328279,-11.72121092088694 L 38.49982141662438,-11.729724876771584 L 38.45781426301354,-11.734427146742862 L 38.415542449313854,-11.735276491165651 L 37.99074308098319,-11.724077906076685 L 37.76832631262137,-11.911558448944472 L 37.73387214906044,-11.937879322878654 L 37.697023122495544,-11.960849362857992 L 37.658113925377776,-11.9802588261282 L 37.617498363363275,-11.995930270679933 L 37.5755461220382,-12.007720214126326 L 37.5326393740931,-12.015520483131446 L 37.489169259230536,-12.019259239197268 L 36.88970489825903,-12.04188986216065 L 36.71621087644993,-12.125978209094326 L 36.67488973953764,-12.143561492295731 L 36.63200927922673,-12.157068502914468 L 36.58798412557886,-12.166367936626926 L 36.543240273020714,-12.171369165649182 L 36.498210903204814,-12.172023153490732 L 36.45333212774671,-12.168322961260236 L 36.409038695505146,-12.160303839229927 L 35.2831785632091,-11.896898448521505 L 34.609183721906604,-11.969423770319274 L 34.564088381406755,-11.972017305308226 L 34.51895175455952,-11.97022762171137 L 34.47421305135434,-11.964071867669261 L 34.43030760053039,-11.953609689701123 L 34.38766254525891,-11.938942651754456 L 34.34669262352122,-11.920213238773172 L 34.30779607766111,-11.89760345516215 L 34.27135073587983,-11.87133303285899 L 34.23771030617182,-11.841657267845672 L 34.207200920426885,-11.808864507784248 L 34.18011796321708,-11.773273316997843 L 34.15672321621788,-11.735229348197654 L 34.13724234536061,-11.69510195315329 L 34.12186275375352,-11.65328056689585 L 34.110731819216305,-11.610170902022594 L 33.85206818482202,-10.345255279177572 L 33.57091756375024,-9.958021925789188 L 33.476194777659025,-9.827679577073152 L 32.67299103402336,-9.674628803010885 L 32.629087460568165,-9.66393877695732 L 32.58647085068087,-9.648980452511841 L 32.54556182672665,-9.629901614975592 L 32.0241194474793,-9.353953213998356 L 31.438870340538962,-9.198802905345454 L 31.379540683210436,-9.178567645251222 L 30.98064701123697,-9.01084105240399 L 30.950025156193224,-8.996584846377296 L 30.920556787527687,-8.980103544392927 L 30.502678179499327,-8.725210447599325 L 30.46590813737627,-8.700197157996287 L 30.431783313842235,-8.67171826567321 L 30.40063183563348,-8.640048608608117 L 30.372752904878567,-8.605493642735354 L 30.348413943668977,-8.568386471216956 L 30.32784805656589,-8.529084612939291 L 30.323084672427306,-8.51728363867084 L 30.322677857004532,-8.517456284094886 L 29.819917704420146,-7.341305239674532 L 29.306063860611822,-6.844464019460569 L 29.2769929463782,-6.813546644235439 L 29.250958214070767,-6.780038014787295 L 29.22818887434179,-6.744234597539668 L 29.208885132421766,-6.706452994450574 L 29.193216457994613,-6.6670271367094545 L 28.99378714104359,-6.08709364724645 L 28.98079671115247,-6.041735762192906 L 28.972608327402146,-5.995268723567685 L 28.969310032736296,-5.948200107681136 L 28.970936519250714,-5.90104389506036 L 28.977468810222526,-5.854314887462329 L 29.061188524463773,-5.420601272826444 L 28.898703846320068,-4.586882793073623 L 28.89240274811484,-4.543540474683739 L 28.890317493420927,-4.499789555113576 L 28.89246690562192,-4.456041728545087 L 28.898830045851913,-4.41270858732597 L 28.909346435197268,-4.370197773565518 L 28.92391664171404,-4.3289091692381945 L 28.94240322626226,-4.289231159230681 L 28.964632038183286,-4.251537001134965 L 28.990393848935927,-4.216181334710191 L 29.019446308967776,-4.183496862807177 L 29.051516210340274,-4.153791234169062 L 29.086302034963673,-4.127344156885111 L 29.123476765750237,-4.104404769383669 L 29.16269093558318,-4.085189293701904 L 29.203575886752244,-4.0698789933716455 L 29.245747211454002,-4.058618455620511 L 29.28880834212715,-4.051514214719414 L 29.547086752438062,-4.021690472628239 L 29.776059237120982,-3.7929452415696923 L 30.145662128831642,-3.297681499473965 L 30.17851367312432,-3.2584587137719483 L 30.21557255564264,-3.2232258062101886 L 30.26282844104446,-3.183144490588939 z\" /></g></svg>"
            ],
            "text/plain": [
              "<POLYGON ((30.263 -3.183, 30.203 -3.12, 30.172 -3.085, 30.146 -3.046, 30.124...>"
            ]
          },
          "execution_count": 42,
          "metadata": {},
          "output_type": "execute_result"
        }
      ],
      "source": [
        "tanzania_buf = tanzania.to_crs(32736).buffer(50000).to_crs(4326)\n",
        "tanzania_buf.iloc[0]"
      ]
    },
    {
      "attachments": {},
      "cell_type": "markdown",
      "id": "515c1c50",
      "metadata": {},
      "source": [
        "现在，我们可以使用“mask”参数来应用这个“过滤器”。\n"
      ]
    },
    {
      "cell_type": "code",
      "execution_count": 43,
      "id": "75baf2a6",
      "metadata": {},
      "outputs": [
        {
          "data": {
            "text/html": [
              "<div>\n",
              "<style scoped>\n",
              "    .dataframe tbody tr th:only-of-type {\n",
              "        vertical-align: middle;\n",
              "    }\n",
              "\n",
              "    .dataframe tbody tr th {\n",
              "        vertical-align: top;\n",
              "    }\n",
              "\n",
              "    .dataframe thead th {\n",
              "        text-align: right;\n",
              "    }\n",
              "</style>\n",
              "<table border=\"1\" class=\"dataframe\">\n",
              "  <thead>\n",
              "    <tr style=\"text-align: right;\">\n",
              "      <th></th>\n",
              "      <th>iso_a2</th>\n",
              "      <th>name_long</th>\n",
              "      <th>continent</th>\n",
              "      <th>...</th>\n",
              "      <th>lifeExp</th>\n",
              "      <th>gdpPercap</th>\n",
              "      <th>geometry</th>\n",
              "    </tr>\n",
              "  </thead>\n",
              "  <tbody>\n",
              "    <tr>\n",
              "      <th>0</th>\n",
              "      <td>MZ</td>\n",
              "      <td>Mozambique</td>\n",
              "      <td>Africa</td>\n",
              "      <td>...</td>\n",
              "      <td>57.099</td>\n",
              "      <td>1079.823866</td>\n",
              "      <td>MULTIPOLYGON (((34.55999 -11.52...</td>\n",
              "    </tr>\n",
              "    <tr>\n",
              "      <th>1</th>\n",
              "      <td>ZM</td>\n",
              "      <td>Zambia</td>\n",
              "      <td>Africa</td>\n",
              "      <td>...</td>\n",
              "      <td>60.775</td>\n",
              "      <td>3632.503753</td>\n",
              "      <td>MULTIPOLYGON (((30.74001 -8.340...</td>\n",
              "    </tr>\n",
              "    <tr>\n",
              "      <th>2</th>\n",
              "      <td>MW</td>\n",
              "      <td>Malawi</td>\n",
              "      <td>Africa</td>\n",
              "      <td>...</td>\n",
              "      <td>61.932</td>\n",
              "      <td>1090.367208</td>\n",
              "      <td>MULTIPOLYGON (((32.75938 -9.230...</td>\n",
              "    </tr>\n",
              "    <tr>\n",
              "      <th>...</th>\n",
              "      <td>...</td>\n",
              "      <td>...</td>\n",
              "      <td>...</td>\n",
              "      <td>...</td>\n",
              "      <td>...</td>\n",
              "      <td>...</td>\n",
              "      <td>...</td>\n",
              "    </tr>\n",
              "    <tr>\n",
              "      <th>6</th>\n",
              "      <td>BI</td>\n",
              "      <td>Burundi</td>\n",
              "      <td>Africa</td>\n",
              "      <td>...</td>\n",
              "      <td>56.688</td>\n",
              "      <td>803.172837</td>\n",
              "      <td>MULTIPOLYGON (((30.46967 -2.413...</td>\n",
              "    </tr>\n",
              "    <tr>\n",
              "      <th>7</th>\n",
              "      <td>UG</td>\n",
              "      <td>Uganda</td>\n",
              "      <td>Africa</td>\n",
              "      <td>...</td>\n",
              "      <td>59.224</td>\n",
              "      <td>1637.275081</td>\n",
              "      <td>MULTIPOLYGON (((33.90371 -0.950...</td>\n",
              "    </tr>\n",
              "    <tr>\n",
              "      <th>8</th>\n",
              "      <td>RW</td>\n",
              "      <td>Rwanda</td>\n",
              "      <td>Africa</td>\n",
              "      <td>...</td>\n",
              "      <td>66.188</td>\n",
              "      <td>1629.868866</td>\n",
              "      <td>MULTIPOLYGON (((30.41910 -1.134...</td>\n",
              "    </tr>\n",
              "  </tbody>\n",
              "</table>\n",
              "<p>9 rows × 11 columns</p>\n",
              "</div>"
            ],
            "text/plain": [
              "   iso_a2   name_long continent  ... lifeExp    gdpPercap  \\\n",
              "0      MZ  Mozambique    Africa  ...  57.099  1079.823866   \n",
              "1      ZM      Zambia    Africa  ...  60.775  3632.503753   \n",
              "2      MW      Malawi    Africa  ...  61.932  1090.367208   \n",
              "..    ...         ...       ...  ...     ...          ...   \n",
              "6      BI     Burundi    Africa  ...  56.688   803.172837   \n",
              "7      UG      Uganda    Africa  ...  59.224  1637.275081   \n",
              "8      RW      Rwanda    Africa  ...  66.188  1629.868866   \n",
              "\n",
              "                              geometry  \n",
              "0   MULTIPOLYGON (((34.55999 -11.52...  \n",
              "1   MULTIPOLYGON (((30.74001 -8.340...  \n",
              "2   MULTIPOLYGON (((32.75938 -9.230...  \n",
              "..                                 ...  \n",
              "6   MULTIPOLYGON (((30.46967 -2.413...  \n",
              "7   MULTIPOLYGON (((33.90371 -0.950...  \n",
              "8   MULTIPOLYGON (((30.41910 -1.134...  \n",
              "\n",
              "[9 rows x 11 columns]"
            ]
          },
          "execution_count": 43,
          "metadata": {},
          "output_type": "execute_result"
        }
      ],
      "source": [
        "tanzania_neigh = gpd.read_file('data/world.gpkg', mask=tanzania_buf)\n",
        "tanzania_neigh"
      ]
    },
    {
      "attachments": {},
      "cell_type": "markdown",
      "id": "eca0a655",
      "metadata": {},
      "source": [
        "@fig-read-shp-query 中显示的结果包含坦桑尼亚及其 50,000 $m$ 缓冲区内的每个国家/地区。\n",
        "请注意，最后两个表达式用于添加带有每个国家/地区的“name_long”的文本标签，放置在国家/地区质心处：\n"
      ]
    },
    {
      "cell_type": "code",
      "execution_count": 44,
      "id": "fig-read-shp-query",
      "metadata": {},
      "outputs": [
        {
          "data": {
            "image/png": "[encoded data removed]",
            "text/plain": [
              "<Figure size 900x500 with 2 Axes>"
            ]
          },
          "metadata": {},
          "output_type": "display_data"
        }
      ],
      "source": [
        "#| label: fig-read-shp-query\n",
        "#| fig-cap: Reading a subset of the vector data using a `where` query (left) and a `mask` (right)\n",
        "\n",
        "fig, axes = plt.subplots(ncols=2, figsize=(9,5))\n",
        "tanzania.plot(ax=axes[0], color='lightgrey', edgecolor='grey')\n",
        "tanzania_neigh.plot(ax=axes[1], color='lightgrey', edgecolor='grey')\n",
        "tanzania_buf.plot(ax=axes[1], color='none', edgecolor='red')\n",
        "axes[0].set_title('where')\n",
        "axes[1].set_title('mask')\n",
        "tanzania.apply(lambda x: axes[0].annotate(text=x['name_long'], xy=x.geometry.centroid.coords[0], ha='center'), axis=1)\n",
        "tanzania_neigh.apply(lambda x: axes[1].annotate(text=x['name_long'], xy=x.geometry.centroid.coords[0], ha='center'), axis=1);"
      ]
    },
    {
      "attachments": {},
      "cell_type": "markdown",
      "id": "32b0d15b",
      "metadata": {},
      "source": [
        "通常我们需要读取具有 x 和 y 坐标列的 CSV 文件（或其他表格格式），并将它们转换为具有点几何形状的“GeoDataFrame”。\n",
        "为此，我们可以使用“pandas”（例如“pd.read_csv”或“pd.read_excel”）导入文件，然后使用“gpd.points_from_xy”函数从“DataFrame”转到“GeoDataFrame”，如图所示 本书前面的内容（请参阅@sec-vector-layer-from-scratch 和 @sec-spatial-joining）。\n",
        "例如，表“cycle_hire_xy.csv”，其中坐标存储在 EPSG:4326 的“X”和“Y”列中，可以导入、转换为“GeoDataFrame”并绘制，如下所示：\n"
      ]
    },
    {
      "cell_type": "code",
      "execution_count": 45,
      "id": "04730700",
      "metadata": {},
      "outputs": [
        {
          "data": {
            "image/png": "[encoded data removed]",
            "text/plain": [
              "<Figure size 500x500 with 1 Axes>"
            ]
          },
          "metadata": {},
          "output_type": "display_data"
        }
      ],
      "source": [
        "cycle_hire = pd.read_csv('data/cycle_hire_xy.csv')\n",
        "geom = gpd.points_from_xy(cycle_hire['X'], cycle_hire['Y'], crs=4326)\n",
        "geom = gpd.GeoSeries(geom)\n",
        "cycle_hire_xy = gpd.GeoDataFrame(data=cycle_hire, geometry=geom)\n",
        "cycle_hire_xy.plot();"
      ]
    },
    {
      "attachments": {},
      "cell_type": "markdown",
      "id": "69298932",
      "metadata": {},
      "source": [
        "单个列也可以包含几何信息，而不是描述“XY”坐标的列。\n",
        "众所周知的文本 (WKT)、众所周知的二进制 (WKB) 和 GeoJSON 格式就是这样的示例。\n",
        "例如，“world_wkt.csv”文件有一个名为 WKT 的列，表示世界各国的多边形。\n",
        "要将其导入并转换为“GeoDataFrame”，我们可以在 WKT 字符串上应用“shapely.wkt.loads”函数（@sec-geometries），将它们转换为“shapely”几何图形：\n"
      ]
    },
    {
      "cell_type": "code",
      "execution_count": 46,
      "id": "9dc9b3ad",
      "metadata": {},
      "outputs": [
        {
          "data": {
            "image/png": "[encoded data removed]",
            "text/plain": [
              "<Figure size 500x500 with 1 Axes>"
            ]
          },
          "metadata": {},
          "output_type": "display_data"
        }
      ],
      "source": [
        "world_wkt = pd.read_csv('data/world_wkt.csv')\n",
        "world_wkt['geometry'] = world_wkt['WKT'].apply(shapely.wkt.loads)\n",
        "world_wkt = gpd.GeoDataFrame(world_wkt)\n",
        "world_wkt.plot();"
      ]
    },
    {
      "attachments": {},
      "cell_type": "markdown",
      "id": "16a2c35a",
      "metadata": {},
      "source": [
        "::: {.callout-note}\n",
        "并非所有受支持的矢量文件格式都存储有关其坐标参考系统的信息。 在这些情况下，可以使用“.set_crs”函数添加缺少的信息。 另请参阅@sec-querying-and-setting-coordinate-systems 了解更多信息。\n",
        ":::\n",
        "\n",
        "作为最后一个示例，我们将展示“geopandas”如何读取 KML 文件。\n",
        "KML 文件以 XML 格式存储地理信息——一种用于以独立于应用程序的方式创建网页和传输数据的数据格式（Nolan 和 Lang 2014 ...）。 在这里，我们从网络访问 KML 文件。 首先，我们需要“激活”“KML”驱动程序，默认情况下该驱动程序不可用（见上文）：\n"
      ]
    },
    {
      "cell_type": "code",
      "execution_count": 47,
      "id": "f5ef048e",
      "metadata": {},
      "outputs": [],
      "source": [
        "fiona.supported_drivers['KML'] = 'r'"
      ]
    },
    {
      "attachments": {},
      "cell_type": "markdown",
      "id": "553adf75",
      "metadata": {},
      "source": [
        "该文件包含多个层。 要列出可用层，我们可以使用“fiona.listlayers”函数：\n"
      ]
    },
    {
      "attachments": {},
      "cell_type": "markdown",
      "id": "5b346f41",
      "metadata": {},
      "source": [
        "### 栅格数据\n",
        "\n",
        "与矢量数据类似，栅格数据有多种文件格式，其中一些支持多层文件。\n",
        "`rasterio.open` 用于创建到光栅文件的文件连接，随后可用于读取元数据和/或值，如前面所示 (@sec-using-rasterio)。\n",
        "例如：\n"
      ]
    },
    {
      "cell_type": "code",
      "execution_count": 48,
      "id": "f4043253",
      "metadata": {},
      "outputs": [
        {
          "data": {
            "text/plain": [
              "<open DatasetReader name='data/srtm.tif' mode='r'>"
            ]
          },
          "execution_count": 48,
          "metadata": {},
          "output_type": "execute_result"
        }
      ],
      "source": [
        "src = rasterio.open('data/srtm.tif')\n",
        "src"
      ]
    },
    {
      "attachments": {},
      "cell_type": "markdown",
      "id": "44aa2836",
      "metadata": {},
      "source": [
        "前面的所有示例都从硬盘驱动器上存储的文件中读取空间信息。\n",
        "但是，GDAL 还允许直接从在线资源读取数据，例如 HTTP/HTTPS/FTP Web 资源。\n",
        "我们唯一需要做的就是在文件路径之前添加“/vsicurl/”前缀。\n",
        "让我们尝试连接 2000-2012 年期间分辨率为 500 m 的全球月降雪概率（T. Hengl 2021 添加参考...）。\n",
        "12 月的降雪概率存储为云优化 GeoTIFF (COG) 文件（请参阅@sec-file-formats）。\n",
        "要读取在线文件，我们只需提供其 URL 以及“/vsicurl/”前缀：\n"
      ]
    },
    {
      "cell_type": "code",
      "execution_count": 49,
      "id": "813e8609",
      "metadata": {},
      "outputs": [
        {
          "data": {
            "text/plain": [
              "<open DatasetReader name='/vsicurl/https://zenodo.org/record/5774954/files/clm_snow.prob_esacci.dec_p.90_500m_s0..0cm_2000..2012_v2.0.tif' mode='r'>"
            ]
          },
          "execution_count": 49,
          "metadata": {},
          "output_type": "execute_result"
        }
      ],
      "source": [
        "url = \"/vsicurl/https://zenodo.org/record/5774954/files/clm_snow.prob_esacci.dec_p.90_500m_s0..0cm_2000..2012_v2.0.tif\"\n",
        "src = rasterio.open(url)\n",
        "src"
      ]
    },
    {
      "attachments": {},
      "cell_type": "markdown",
      "id": "91c54089",
      "metadata": {},
      "source": [
        "在上面的示例中，“rasterio.open”创建了与文件的连接，但没有获取任何值，就像我们对本地“srtm.tif”文件所做的那样。\n",
        "可以使用文件连接（@sec-using-rasterio）的“.read”方法将这些值读入“ndarray”。\n",
        "这允许我们只读取一小部分数据，而无需下载整个文件。\n",
        "当处理从资源受限的计算环境（例如笔记本电脑）在线托管的大型数据集时，这非常有用。\n",
        "\n",
        "另一种选择是使用“.sample”方法直接从文件连接中提取特定点的栅格值（请参阅@sec-spatial-subsetting）。\n",
        "例如，我们可以通过指定坐标并应用 `.sample` 来获取雷克雅未克 12 月的下雪概率 (70%)：\n"
      ]
    },
    {
      "cell_type": "code",
      "execution_count": 50,
      "id": "0ac421e6",
      "metadata": {},
      "outputs": [
        {
          "data": {
            "text/plain": [
              "[array([70], dtype=uint8)]"
            ]
          },
          "execution_count": 50,
          "metadata": {},
          "output_type": "execute_result"
        }
      ],
      "source": [
        "values = src.sample([(-21.94, 64.15)])\n",
        "list(values)"
      ]
    },
    {
      "attachments": {},
      "cell_type": "markdown",
      "id": "a3e64e44",
      "metadata": {},
      "source": [
        "上面的示例有效地提取和下载单个值而不是整个 GeoTIFF 文件，从而节省了宝贵的资源。\n",
        "`/vsicurl/` 前缀**也适用于矢量文件格式**，使您只需将其添加到矢量文件 URL 之前即可使用 `geopandas` 从在线存储导入数据集。\n",
        "\n",
        "重要的是，“/vsicurl/”并不是 GDAL 提供的唯一前缀——还有更多前缀，例如“/vsizip/”用于从 ZIP 存档中读取空间文件而不预先解压缩它们，或者“/vsis3/”用于直接读取空间文件。 -fly 读取 AWS S3 存储桶中可用的文件。 您可以在<https://gdal.org/user/virtual_file_systems.html>了解更多信息。\n",
        "\n",
        "（添加读取矩形范围的示例...）\n",
        "\n",
        "## 数据输出 (O) {#sec-data-output}\n",
        "\n",
        "写入地理数据允许您从一种格式转换为另一种格式，并保存新创建的对象以进行永久存储。\n",
        "根据数据类型（矢量或栅格）、对象类（例如“GeoDataFrame”）以及存储信息的类型和数量（例如对象大小、值范围），了解如何将空间文件存储在 最有效的方法。\n",
        "接下来的两节将演示如何做到这一点。\n",
        "\n",
        "### 矢量数据\n",
        "\n",
        "与 gpd.read_file 相对应的是 GeoDataFrame 具有的 .to_file 方法。 它允许您将“GeoDataFrame”对象写入各种地理矢量文件格式，包括最常见的“.geojson”、“.shp”和“.gpkg”。 根据文件名，“.to_file”自动决定使用哪个驱动程序。 写入过程的速度还取决于驱动程序。\n"
      ]
    },
    {
      "cell_type": "code",
      "execution_count": 51,
      "id": "3e88d79e",
      "metadata": {},
      "outputs": [],
      "source": [
        "world.to_file('output/world.gpkg')"
      ]
    },
    {
      "attachments": {},
      "cell_type": "markdown",
      "id": "5c2aa58a",
      "metadata": {},
      "source": [
        "注意：如果您尝试再次写入同一数据源，该函数将覆盖该文件：\n"
      ]
    },
    {
      "cell_type": "code",
      "execution_count": 52,
      "id": "a0f44083",
      "metadata": {},
      "outputs": [],
      "source": [
        "world.to_file('output/world.gpkg')"
      ]
    },
    {
      "attachments": {},
      "cell_type": "markdown",
      "id": "83641ddf",
      "metadata": {},
      "source": [
        "我们可以使用“mode='a'”（“追加”模式，而不是“写入”模式的默认“mode='w”）向文件添加一个新层，而不是覆盖文件。 多种空间格式支持追加，包括 GeoPackage。 例如："
      ]
    },
    {
      "cell_type": "code",
      "execution_count": 53,
      "id": "a6506a1f",
      "metadata": {},
      "outputs": [],
      "source": [
        "world.to_file('output/world_many_features.gpkg')\n",
        "world.to_file('output/world_many_features.gpkg', mode='a')"
      ]
    },
    {
      "attachments": {},
      "cell_type": "markdown",
      "id": "d386ce8b",
      "metadata": {},
      "source": [
        "这里，“world_many_features.gpkg”将包含一个名为“world”的多边形层，其中每个国家有两个“副本”（即 177×2=354 个特征，而“world”层有 177 个特征）。\n",
        "\n",
        "或者，您可以在同一文件中创建另一个单独的图层。 GeoPackage 格式还支持一个文件内的多个层。 例如：\n"
      ]
    },
    {
      "cell_type": "code",
      "execution_count": 54,
      "id": "5fc95f23",
      "metadata": {},
      "outputs": [],
      "source": [
        "world.to_file('output/world_many_layers.gpkg')\n",
        "world.to_file('output/world_many_layers.gpkg', layer='world2')"
      ]
    },
    {
      "attachments": {},
      "cell_type": "markdown",
      "id": "6db6e978",
      "metadata": {},
      "source": [
        "在这种情况下，`world_many_layers.gpkg`有两个“层”，`world_many_layers`（当未指定`layer`时与文件名相同）和`world2`。 顺便说一句，两层的内容是相同的，但不一定如此。 此类文件中的每个层都可以单独导入，如下所示：\n"
      ]
    },
    {
      "cell_type": "code",
      "execution_count": 55,
      "id": "3189d09c",
      "metadata": {},
      "outputs": [
        {
          "data": {
            "text/html": [
              "<div>\n",
              "<style scoped>\n",
              "    .dataframe tbody tr th:only-of-type {\n",
              "        vertical-align: middle;\n",
              "    }\n",
              "\n",
              "    .dataframe tbody tr th {\n",
              "        vertical-align: top;\n",
              "    }\n",
              "\n",
              "    .dataframe thead th {\n",
              "        text-align: right;\n",
              "    }\n",
              "</style>\n",
              "<table border=\"1\" class=\"dataframe\">\n",
              "  <thead>\n",
              "    <tr style=\"text-align: right;\">\n",
              "      <th></th>\n",
              "      <th>iso_a2</th>\n",
              "      <th>name_long</th>\n",
              "      <th>continent</th>\n",
              "      <th>...</th>\n",
              "      <th>lifeExp</th>\n",
              "      <th>gdpPercap</th>\n",
              "      <th>geometry</th>\n",
              "    </tr>\n",
              "  </thead>\n",
              "  <tbody>\n",
              "    <tr>\n",
              "      <th>0</th>\n",
              "      <td>FJ</td>\n",
              "      <td>Fiji</td>\n",
              "      <td>Oceania</td>\n",
              "      <td>...</td>\n",
              "      <td>69.96</td>\n",
              "      <td>8222.253784</td>\n",
              "      <td>MULTIPOLYGON (((-180.00000 -16....</td>\n",
              "    </tr>\n",
              "  </tbody>\n",
              "</table>\n",
              "<p>1 rows × 11 columns</p>\n",
              "</div>"
            ],
            "text/plain": [
              "  iso_a2 name_long continent  ... lifeExp    gdpPercap  \\\n",
              "0     FJ      Fiji   Oceania  ...   69.96  8222.253784   \n",
              "\n",
              "                             geometry  \n",
              "0  MULTIPOLYGON (((-180.00000 -16....  \n",
              "\n",
              "[1 rows x 11 columns]"
            ]
          },
          "execution_count": 55,
          "metadata": {},
          "output_type": "execute_result"
        }
      ],
      "source": [
        "gpd.read_file('output/world_many_layers.gpkg', layer='world_many_layers').head(1)"
      ]
    },
    {
      "cell_type": "code",
      "execution_count": 56,
      "id": "6044c2f9",
      "metadata": {},
      "outputs": [
        {
          "data": {
            "text/html": [
              "<div>\n",
              "<style scoped>\n",
              "    .dataframe tbody tr th:only-of-type {\n",
              "        vertical-align: middle;\n",
              "    }\n",
              "\n",
              "    .dataframe tbody tr th {\n",
              "        vertical-align: top;\n",
              "    }\n",
              "\n",
              "    .dataframe thead th {\n",
              "        text-align: right;\n",
              "    }\n",
              "</style>\n",
              "<table border=\"1\" class=\"dataframe\">\n",
              "  <thead>\n",
              "    <tr style=\"text-align: right;\">\n",
              "      <th></th>\n",
              "      <th>iso_a2</th>\n",
              "      <th>name_long</th>\n",
              "      <th>continent</th>\n",
              "      <th>...</th>\n",
              "      <th>lifeExp</th>\n",
              "      <th>gdpPercap</th>\n",
              "      <th>geometry</th>\n",
              "    </tr>\n",
              "  </thead>\n",
              "  <tbody>\n",
              "    <tr>\n",
              "      <th>0</th>\n",
              "      <td>FJ</td>\n",
              "      <td>Fiji</td>\n",
              "      <td>Oceania</td>\n",
              "      <td>...</td>\n",
              "      <td>69.96</td>\n",
              "      <td>8222.253784</td>\n",
              "      <td>MULTIPOLYGON (((-180.00000 -16....</td>\n",
              "    </tr>\n",
              "  </tbody>\n",
              "</table>\n",
              "<p>1 rows × 11 columns</p>\n",
              "</div>"
            ],
            "text/plain": [
              "  iso_a2 name_long continent  ... lifeExp    gdpPercap  \\\n",
              "0     FJ      Fiji   Oceania  ...   69.96  8222.253784   \n",
              "\n",
              "                             geometry  \n",
              "0  MULTIPOLYGON (((-180.00000 -16....  \n",
              "\n",
              "[1 rows x 11 columns]"
            ]
          },
          "execution_count": 56,
          "metadata": {},
          "output_type": "execute_result"
        }
      ],
      "source": [
        "gpd.read_file('output/world_many_layers.gpkg', layer='world2').head(1)"
      ]
    },
    {
      "attachments": {},
      "cell_type": "markdown",
      "id": "3111c265",
      "metadata": {},
      "source": [
        "### 栅格数据 {#sec-data-output-raster}\n",
        "\n",
        "要使用**rasterio**写入光栅文件，我们需要以写入（“w”）模式将光栅文件路径传递给“rasterio.open”。 这意味着创建一个新的空文件（或覆盖现有文件）。 与读取（“r”，默认）模式相反，除了文件路径和模式之外，“rasterio.open”函数还需要相当多的信息：\n",
        "\n",
        "* 包含栅格值的数组\n",
        "* 描述栅格格式和空间属性的元数据\n",
        "\n",
        "元数据需要指定以下属性：\n",
        "\n",
        "* `driver`---文件格式（GeoTIFF推荐使用`'GTiff'`）\n",
        "* `height`---行数\n",
        "* `width`---列数\n",
        "* `count`---波段数\n",
        "* `nodata`---表示“无数据”的值（如果有）\n",
        "* `dtype`---栅格数据类型，**numpy**类型之一（例如，`np.int64`）\n",
        "* `crs`---CRS，使用 EPSG 代码（例如，`4326`）\n",
        "* `transform`---变换矩阵\n",
        "* `compress`---要应用的压缩方法，例如`'lzw'`。 这是可选的，对于大型栅格来说最有用。 请注意，在撰写本文时，这[效果不佳](https://gis.stackexchange.com/questions/404738/why-does-rasterio-compression-reduces-image-size-with-single- band-but-not-with-m) 用于编写多波段栅格。\n",
        "\n",
        "一旦具有正确元数据的文件连接准备就绪，我们就使用文件连接的“.write”方法进行实际写入。 如果有多个带，我们可以多次执行“.write”方法，如“.write(a,n)”，其中“a”是带值的数组，“n”是带索引（从 `1`，见下文）。 完成后，我们使用“.close”方法关闭文件连接。 一些函数，例如用于重采样和重投影的“rasterio.warp.reproject”，直接接受“w”模式下的文件连接，从而为我们处理（重采样或重投影栅格的）写入。\n",
        "\n",
        "大多数属性要么根据我们的目标直接选择（例如“driver”、“crs”、“compress”、“nodata”），要么直接从具有栅格值本身的数组派生（例如“ 高度`、`宽度`、`计数`、`dtype`)。 最复杂的属性是“变换”，它指定栅格原点和分辨率。 `transform` 通常要么从现有栅格获得（充当“模板”），要么根据手动指定的原点和分辨率值从头开始创建（例如，使用 `rasterio.transform.from_origin`），或者自动计算（ 例如，使用“rasterio.warp.calculate_default_transform”）。\n",
        "\n",
        "在本书的前面，我们已经演示了编写栅格的四种最常见的场景：\n",
        "\n",
        "* 从头开始创建（@sec-raster-from-scratch）---我们通过将“elev”和“grain”数组与任意空间范围相关联，从头开始创建并编写两个栅格。 使用“rasterio.transform.from_origin”创建的自定义任意“transform”。\n",
        "* 聚合（@sec-raster-agg-disagg）——我们通过从现有栅格读取重采样数组，然后使用“.transform.scale”更新“transform”，编写了一个聚合栅格。\n",
        "* 重新采样（@sec-raster-resampling）——我们将栅格重新采样到自定义网格中，使用“rasterio.transform.from_origin”手动创建“transform”，然后使用“rasterio.warp.reproject”重新采样并写入输出 `。\n",
        "* 重新投影（@sec-reprojecting-raster-geometries）——我们通过使用“rasterio.warp.calculate_default_transform”自动计算最佳“变换”，将栅格重新投影到另一个 CRS 中，然后使用“rasterio.warp.calculate_default_transform”重新采样并写入输出。 扭曲.重新投影`。\n",
        "\n",
        "下面给出了从头开始编写名为“r.tif”的光栅文件（即第 1^st^ 场景）的最小示例，以提醒其中一些概念：\n"
      ]
    },
    {
      "cell_type": "code",
      "execution_count": 57,
      "id": "79eca78c",
      "metadata": {},
      "outputs": [
        {
          "data": {
            "text/plain": [
              "array([[1, 2],\n",
              "       [3, 4]], dtype=int8)"
            ]
          },
          "execution_count": 57,
          "metadata": {},
          "output_type": "execute_result"
        }
      ],
      "source": [
        "# An array with raster values\n",
        "r = np.array([1,2,3,4]).reshape(2,2).astype(np.int8)\n",
        "r"
      ]
    },
    {
      "cell_type": "code",
      "execution_count": 58,
      "id": "4c343691",
      "metadata": {},
      "outputs": [
        {
          "data": {
            "text/plain": [
              "Affine(2.0, 0.0, -0.5,\n",
              "       0.0, -2.0, 51.5)"
            ]
          },
          "execution_count": 58,
          "metadata": {},
          "output_type": "execute_result"
        }
      ],
      "source": [
        "# Calculating the transform\n",
        "new_transform = rasterio.transform.from_origin(\n",
        "    west=-0.5, \n",
        "    north=51.5, \n",
        "    xsize=2, \n",
        "    ysize=2\n",
        ")\n",
        "new_transform"
      ]
    },
    {
      "cell_type": "code",
      "execution_count": 59,
      "id": "e5fcefda",
      "metadata": {},
      "outputs": [
        {
          "data": {
            "text/plain": [
              "<open DatasetWriter name='output/r.tif' mode='w'>"
            ]
          },
          "execution_count": 59,
          "metadata": {},
          "output_type": "execute_result"
        }
      ],
      "source": [
        "# Creating the file connection with the metadata\n",
        "dst = rasterio.open(\n",
        "    'output/r.tif', 'w', \n",
        "    driver = 'GTiff',\n",
        "    height = r.shape[0],\n",
        "    width = r.shape[1],\n",
        "    count = 1,\n",
        "    dtype = r.dtype,\n",
        "    crs = 4326,\n",
        "    transform = new_transform\n",
        ")\n",
        "dst"
      ]
    },
    {
      "cell_type": "code",
      "execution_count": 60,
      "id": "4e081c02",
      "metadata": {},
      "outputs": [],
      "source": [
        "# Writing the array values into the file\n",
        "dst.write(r, 1)"
      ]
    },
    {
      "cell_type": "code",
      "execution_count": 61,
      "id": "26399810",
      "metadata": {},
      "outputs": [],
      "source": [
        "# Closing the file\n",
        "dst.close()"
      ]
    },
    {
      "attachments": {},
      "cell_type": "markdown",
      "id": "684666d8",
      "metadata": {},
      "source": [
        "此代码部分创建一个新文件“output/r.tif”，它是一个 $2 \\times 2$ 栅格，具有 2 进制分辨率，左上角位于伦敦上方。\n",
        "\n",
        "总而言之，各种场景在两个方面有所不同：\n",
        "\n",
        "* 输出栅格“变换”的获取方式：\n",
        "     * 从现有栅格导入（见下文）\n",
        "     * 使用 `rasterio.transform.from_origin` (@sec-raster-from-scratch) 从头开始创建\n",
        "     * 使用“rasterio.warp.calculate_default_transform”自动计算（@sec-reprojecting-raster-geometries）\n",
        "* 光栅的写入方式：\n",
        "     * 使用 `.write` 方法，给定一个现有数组（@sec-raster-from-scratch、@sec-raster-agg-disagg）\n",
        "     * 使用 `rasterio.warp.reproject` 计算并写入重新采样或重新投影的数组（@sec-raster-resampling、@sec-reprojecting-raster-geometries）\n",
        "\n",
        "为了使栅格导出图片完整，我们还没有涉及三个重要概念：数组和栅格数据类型、写入多波段栅格以及处理“无数据”值。\n",
        "\n",
        "数组（即包 **numpy** 中定义的“ndarray”对象）用于在使用“.read”（@sec-using-rasterio）从文件读取栅格值时存储栅格值。 数组中的所有值都具有相同的类型，而 **numpy** 包支持多种不同精度的数字数据类型（以及相应的内存占用）。 光栅格式（例如 GeoTIFF）支持完全相同的数据类型，这意味着读取光栅文件使用尽可能少的 RAM。 最相关的类型总结在 @tbl-numpy-data-types 中。\n",
        "\n",
        "| 数据类型| 描述 |\n",
        "|---|-------------|\n",
        "| `int8` | 单字节整数（‘-128’到‘127’）\n",
        "| `int16` | 16 位整数（`-32768` 到 `32767`）\n",
        "| `int32` | 32 位整数（`-2147483648` 到 `2147483647`）\n",
        "| `uint8` | 无符号整数（‘0’到‘255’）\n",
        "| `uint16` | 无符号整数（“0”到“65535”）\n",
        "| `uint32` | 无符号整数（“0”到“4294967295”）\n",
        "| `float16` | 半精度（16 位）浮点数（`-65504` 到 `65504`）\n",
        "| `float32` | 单精度（32 位）浮点数（`1e-38` 到 `1e38`）\n",
        "| `float64` | 双精度（64 位）浮点数（`1e-308` 到 `1e308`）\n",
        "\n",
        "：通常用于栅格的数字“numpy”数据{#tbl-numpy-data-types}\n",
        "\n",
        "写入栅格时可以指定栅格数据类型（见上文）。 对于现有的栅格文件，可以通过元数据的“.dtype”属性访问数据类型：\n"
      ]
    },
    {
      "cell_type": "code",
      "execution_count": 62,
      "id": "9bad235a",
      "metadata": {},
      "outputs": [
        {
          "data": {
            "text/plain": [
              "'int8'"
            ]
          },
          "execution_count": 62,
          "metadata": {},
          "output_type": "execute_result"
        }
      ],
      "source": [
        "rasterio.open('output/r.tif').meta['dtype']"
      ]
    },
    {
      "attachments": {},
      "cell_type": "markdown",
      "id": "0749eea5",
      "metadata": {},
      "source": [
        "文件`r.tif`的数据类型为`np.int8`，我们在创建它时根据原始数组的数据类型指定：\n"
      ]
    },
    {
      "cell_type": "code",
      "execution_count": 63,
      "id": "fab95c2f",
      "metadata": {},
      "outputs": [
        {
          "data": {
            "text/plain": [
              "dtype('int8')"
            ]
          },
          "execution_count": 63,
          "metadata": {},
          "output_type": "execute_result"
        }
      ],
      "source": [
        "r.dtype"
      ]
    },
    {
      "attachments": {},
      "cell_type": "markdown",
      "id": "c95ecaac",
      "metadata": {},
      "source": [
        "将数据读回 Python 会话时，将重新创建具有相同数据类型的数组：\n"
      ]
    },
    {
      "cell_type": "code",
      "execution_count": 64,
      "id": "6d33e1bb",
      "metadata": {},
      "outputs": [
        {
          "data": {
            "text/plain": [
              "dtype('int8')"
            ]
          },
          "execution_count": 64,
          "metadata": {},
          "output_type": "execute_result"
        }
      ],
      "source": [
        "rasterio.open('output/r.tif').read().dtype"
      ]
    },
    {
      "attachments": {},
      "cell_type": "markdown",
      "id": "ec5c8879",
      "metadata": {},
      "source": [
        "编写多波段栅格与编写单波段栅格类似，只是我们需要：\n",
        "\n",
        "* 定义我们正在创建的文件中的层数（元数据中的“count”属性）\n",
        "* 多次执行`.write`方法，每层执行一次\n",
        "\n",
        "为了完整起见，我们来演示如何编写一个名为“r3.tif”的多波段栅格，它与“r.tif”类似，但具有三个值为“r”、“r*2”和“r*3”的波段 （即数组“r”乘以 1、2 或 3）。 由于大多数元数据将是相同的，这也是（重新）演示更新现有元数据对象而不是从头开始创建元数据对象的好机会。\n",
        "\n",
        "首先，让我们复制“r.tif”中已有的元数据：\n"
      ]
    },
    {
      "cell_type": "code",
      "execution_count": 65,
      "id": "3d281327",
      "metadata": {},
      "outputs": [
        {
          "data": {
            "text/plain": [
              "{'driver': 'GTiff',\n",
              " 'dtype': 'int8',\n",
              " 'nodata': None,\n",
              " 'width': 2,\n",
              " 'height': 2,\n",
              " 'count': 1,\n",
              " 'crs': CRS.from_epsg(4326),\n",
              " 'transform': Affine(2.0, 0.0, -0.5,\n",
              "        0.0, -2.0, 51.5)}"
            ]
          },
          "execution_count": 65,
          "metadata": {},
          "output_type": "execute_result"
        }
      ],
      "source": [
        "dst_kwds = rasterio.open('output/r.tif').meta.copy()\n",
        "dst_kwds"
      ]
    },
    {
      "attachments": {},
      "cell_type": "markdown",
      "id": "31dfa039",
      "metadata": {},
      "source": [
        "Second, we update the `count` entry, replacing `1` (single-band) with `3` (three-band):\n"
      ]
    },
    {
      "cell_type": "code",
      "execution_count": 66,
      "id": "887ec5b8",
      "metadata": {},
      "outputs": [
        {
          "data": {
            "text/plain": [
              "{'driver': 'GTiff',\n",
              " 'dtype': 'int8',\n",
              " 'nodata': None,\n",
              " 'width': 2,\n",
              " 'height': 2,\n",
              " 'count': 3,\n",
              " 'crs': CRS.from_epsg(4326),\n",
              " 'transform': Affine(2.0, 0.0, -0.5,\n",
              "        0.0, -2.0, 51.5)}"
            ]
          },
          "execution_count": 66,
          "metadata": {},
          "output_type": "execute_result"
        }
      ],
      "source": [
        "dst_kwds.update(count=3)\n",
        "dst_kwds"
      ]
    },
    {
      "attachments": {},
      "cell_type": "markdown",
      "id": "cd663de2",
      "metadata": {},
      "source": [
        "Finally, we can create a file connection using the updated metadata and then write the values of the three bands:\n"
      ]
    },
    {
      "cell_type": "code",
      "execution_count": 67,
      "id": "1e4ac232",
      "metadata": {},
      "outputs": [],
      "source": [
        "dst = rasterio.open('output/r3.tif', 'w', **dst_kwds)\n",
        "dst.write(r,   1)\n",
        "dst.write(r*2, 2)\n",
        "dst.write(r*3, 3)\n",
        "dst.close()"
      ]
    },
    {
      "attachments": {},
      "cell_type": "markdown",
      "id": "3bc1f4a1",
      "metadata": {},
      "source": [
        "结果，创建了一个名为“r3.tif”的三波段栅格。\n",
        "\n",
        "栅格通常包含“无数据”值，表示丢失的数据，例如，由于拍摄范围之外的云或像素而导致测量不可靠。\n",
        "在 **numpy** `ndarray` 对象中，“无数据”值可以由特殊的 `np.nan` 值表示。\n",
        "但是，由于计算机内存限制，只有“float”类型的数组可以包含“np.nan”，而“int”类型的数组则不能。\n",
        "对于包含“无数据”的“int”栅格，我们通常使用超出有效范围的特定值（例如“-9999”）来标记丢失的数据。\n",
        "丢失的数据“标志”存储在文件中（通过文件连接的“nodata”属性设置，见上文）。\n",
        "当将“无数据”的“int”栅格读回 Python 时，我们需要注意这些标志。 我们通过例子来演示一下。\n",
        "\n",
        "我们将从更简单的情况开始，即“float”类型的栅格。 由于“float”数组可能包含“本机”值“np.nan”，表示“无数据”很简单。\n",
        "例如，假设我们有一个带有“np.nan”的“float”数组："
      ]
    },
    {
      "cell_type": "code",
      "execution_count": 68,
      "id": "4d05ccf2",
      "metadata": {},
      "outputs": [
        {
          "data": {
            "text/plain": [
              "array([[1.1, 2.1],\n",
              "       [nan, 4.1]])"
            ]
          },
          "execution_count": 68,
          "metadata": {},
          "output_type": "execute_result"
        }
      ],
      "source": [
        "r = np.array([1.1,2.1,np.nan,4.1]).reshape(2,2)\n",
        "r"
      ]
    },
    {
      "cell_type": "code",
      "execution_count": 69,
      "id": "bec49b94",
      "metadata": {},
      "outputs": [
        {
          "data": {
            "text/plain": [
              "dtype('float64')"
            ]
          },
          "execution_count": 69,
          "metadata": {},
          "output_type": "execute_result"
        }
      ],
      "source": [
        "r.dtype"
      ]
    },
    {
      "attachments": {},
      "cell_type": "markdown",
      "id": "7379a06c",
      "metadata": {},
      "source": [
        "将数组写入文件时，我们不需要指定任何特定的“nodata”值：\n"
      ]
    },
    {
      "cell_type": "code",
      "execution_count": 70,
      "id": "b41dadaf",
      "metadata": {},
      "outputs": [],
      "source": [
        "dst = rasterio.open(\n",
        "    'output/r_nodata_float.tif', 'w', \n",
        "    driver = 'GTiff',\n",
        "    height = r.shape[0],\n",
        "    width = r.shape[1],\n",
        "    count = 1,\n",
        "    dtype = r.dtype,\n",
        "    crs = 4326,\n",
        "    transform = new_transform\n",
        ")\n",
        "dst.write(r, 1)\n",
        "dst.close()"
      ]
    },
    {
      "attachments": {},
      "cell_type": "markdown",
      "id": "1cadf755",
      "metadata": {},
      "source": [
        "这相当于“nodata=None”："
      ]
    },
    {
      "cell_type": "code",
      "execution_count": 71,
      "id": "f164d637",
      "metadata": {},
      "outputs": [
        {
          "data": {
            "text/plain": [
              "{'driver': 'GTiff',\n",
              " 'dtype': 'float64',\n",
              " 'nodata': None,\n",
              " 'width': 2,\n",
              " 'height': 2,\n",
              " 'count': 1,\n",
              " 'crs': CRS.from_epsg(4326),\n",
              " 'transform': Affine(2.0, 0.0, -0.5,\n",
              "        0.0, -2.0, 51.5)}"
            ]
          },
          "execution_count": 71,
          "metadata": {},
          "output_type": "execute_result"
        }
      ],
      "source": [
        "rasterio.open('output/r_nodata_float.tif').meta"
      ]
    },
    {
      "attachments": {},
      "cell_type": "markdown",
      "id": "6c69c179",
      "metadata": {},
      "source": [
        "从栅格读回 Python 会话会使用“np.nan”重现相同的数组：\n"
      ]
    },
    {
      "cell_type": "code",
      "execution_count": 72,
      "id": "d2d47150",
      "metadata": {},
      "outputs": [
        {
          "data": {
            "text/plain": [
              "array([[[1.1, 2.1],\n",
              "        [nan, 4.1]]])"
            ]
          },
          "execution_count": 72,
          "metadata": {},
          "output_type": "execute_result"
        }
      ],
      "source": [
        "rasterio.open('output/r_nodata_float.tif').read()"
      ]
    },
    {
      "attachments": {},
      "cell_type": "markdown",
      "id": "86cd3f4b",
      "metadata": {},
      "source": [
        "现在，假设我们有一个缺少数据的“np.int32”数组，它不可避免地使用特定的“int”值（例如“-9999”）进行标记（请记住，我们不能将“np.nan”存储在“ int` 数组！）：\n"
      ]
    },
    {
      "cell_type": "code",
      "execution_count": 73,
      "id": "f7794237",
      "metadata": {},
      "outputs": [
        {
          "data": {
            "text/plain": [
              "array([[    1,     2],\n",
              "       [-9999,     4]])"
            ]
          },
          "execution_count": 73,
          "metadata": {},
          "output_type": "execute_result"
        }
      ],
      "source": [
        "r = np.array([1,2,-9999,4]).reshape(2,2).astype(np.int32)\n",
        "r"
      ]
    },
    {
      "cell_type": "code",
      "execution_count": 74,
      "id": "9df31ad6",
      "metadata": {},
      "outputs": [
        {
          "data": {
            "text/plain": [
              "dtype('int32')"
            ]
          },
          "execution_count": 74,
          "metadata": {},
          "output_type": "execute_result"
        }
      ],
      "source": [
        "r.dtype"
      ]
    },
    {
      "attachments": {},
      "cell_type": "markdown",
      "id": "4965fe2e",
      "metadata": {},
      "source": [
        "将数组写入文件时，我们必须指定 `nodata=-9999` 来跟踪我们的“无数据”标志：\n"
      ]
    },
    {
      "cell_type": "code",
      "execution_count": 75,
      "id": "2f5eecb2",
      "metadata": {},
      "outputs": [],
      "source": [
        "dst = rasterio.open(\n",
        "    'output/r_nodata_int.tif', 'w', \n",
        "    driver = 'GTiff',\n",
        "    height = r.shape[0],\n",
        "    width = r.shape[1],\n",
        "    count = 1,\n",
        "    dtype = r.dtype,\n",
        "    nodata = -9999,\n",
        "    crs = 4326,\n",
        "    transform = new_transform\n",
        ")\n",
        "dst.write(r, 1)\n",
        "dst.close()"
      ]
    },
    {
      "attachments": {},
      "cell_type": "markdown",
      "id": "e2dabfa0",
      "metadata": {},
      "source": [
        "检查元数据确认“nodata=-9999”设置存储在文件“r_nodata_int.tif”中。\n"
      ]
    },
    {
      "cell_type": "code",
      "execution_count": 76,
      "id": "36f2cede",
      "metadata": {},
      "outputs": [
        {
          "data": {
            "text/plain": [
              "{'driver': 'GTiff',\n",
              " 'dtype': 'int32',\n",
              " 'nodata': -9999.0,\n",
              " 'width': 2,\n",
              " 'height': 2,\n",
              " 'count': 1,\n",
              " 'crs': CRS.from_epsg(4326),\n",
              " 'transform': Affine(2.0, 0.0, -0.5,\n",
              "        0.0, -2.0, 51.5)}"
            ]
          },
          "execution_count": 76,
          "metadata": {},
          "output_type": "execute_result"
        }
      ],
      "source": [
        "rasterio.open('output/r_nodata_int.tif').meta"
      ]
    },
    {
      "attachments": {},
      "cell_type": "markdown",
      "id": "18435002",
      "metadata": {},
      "source": [
        "如果您尝试在 GIS 软件（例如 QGIS）中打开该文件，您将看到缺失的数据被解释（例如，显示为空白的像素），这意味着该软件知道该标志。\n",
        "然而，出于与前面所述相同的原因，将数据读回 Python 会生成一个带有“-9999”的“int”数组：\n"
      ]
    },
    {
      "cell_type": "code",
      "execution_count": 77,
      "id": "7b904785",
      "metadata": {},
      "outputs": [
        {
          "data": {
            "text/plain": [
              "array([[[    1,     2],\n",
              "        [-9999,     4]]])"
            ]
          },
          "execution_count": 77,
          "metadata": {},
          "output_type": "execute_result"
        }
      ],
      "source": [
        "src = rasterio.open('output/r_nodata_int.tif')\n",
        "r = src.read()\n",
        "r"
      ]
    },
    {
      "attachments": {},
      "cell_type": "markdown",
      "id": "ad1b4b15",
      "metadata": {},
      "source": [
        "因此，Python 用户必须注意“无数据”“int”栅格，例如避免按字面解释值“-9999”。\n",
        "例如，如果我们“忘记”“nodata”标志，“.mean”的字面计算将错误地包含值“-9999”：\n"
      ]
    },
    {
      "cell_type": "code",
      "execution_count": 78,
      "id": "d0d8e0b6",
      "metadata": {},
      "outputs": [
        {
          "data": {
            "text/plain": [
              "-2498.0"
            ]
          },
          "execution_count": 78,
          "metadata": {},
          "output_type": "execute_result"
        }
      ],
      "source": [
        "r.mean()"
      ]
    },
    {
      "attachments": {},
      "cell_type": "markdown",
      "id": "45bc154c",
      "metadata": {},
      "source": [
        "有两种基本方法可以处理这种情况：\n",
        "\n",
        "* 将栅格转换为“float”\n",
        "* 使用“无数据”掩码\n",
        "\n",
        "首先，特别是对于与内存限制无关的小栅格，从“int”到“float”可能更方便，以获得自然“np.nan”表示的能力。\n",
        "以下是我们如何使用“r_nodata_int.tif”来做到这一点。 我们检测丢失的数据标志，将栅格转换为“float”，并将“np.nan”分配给应该丢失的单元格：\n"
      ]
    },
    {
      "cell_type": "code",
      "execution_count": 79,
      "id": "9f169f66",
      "metadata": {},
      "outputs": [
        {
          "data": {
            "text/plain": [
              "array([[[ 1.,  2.],\n",
              "        [nan,  4.]]])"
            ]
          },
          "execution_count": 79,
          "metadata": {},
          "output_type": "execute_result"
        }
      ],
      "source": [
        "mask = r == src.nodata\n",
        "r = r.astype(np.float64)\n",
        "r[mask] = np.nan\n",
        "r"
      ]
    },
    {
      "attachments": {},
      "cell_type": "markdown",
      "id": "dd5e08dd",
      "metadata": {},
      "source": [
        "从那里开始，我们以通常的方式处理`np.nan`，例如使用`np.nanmean`来计算排除“无数据”的平均值：\n"
      ]
    },
    {
      "cell_type": "code",
      "execution_count": 80,
      "id": "e367a3f2",
      "metadata": {},
      "outputs": [
        {
          "data": {
            "text/plain": [
              "2.3333333333333335"
            ]
          },
          "execution_count": 80,
          "metadata": {},
          "output_type": "execute_result"
        }
      ],
      "source": [
        "np.nanmean(r)"
      ]
    },
    {
      "attachments": {},
      "cell_type": "markdown",
      "id": "5004b351",
      "metadata": {},
      "source": [
        "从那里开始，我们以通常的方式处理`np.nan`，例如使用`np.nanmean`来计算排除“无数据”的平均值：\n"
      ]
    },
    {
      "cell_type": "code",
      "execution_count": 81,
      "id": "8af8b348",
      "metadata": {},
      "outputs": [
        {
          "data": {
            "text/plain": [
              "masked_array(\n",
              "  data=[[[1, 2],\n",
              "         [--, 4]]],\n",
              "  mask=[[[False, False],\n",
              "         [ True, False]]],\n",
              "  fill_value=-9999)"
            ]
          },
          "execution_count": 81,
          "metadata": {},
          "output_type": "execute_result"
        }
      ],
      "source": [
        "r = src.read(masked=True)\n",
        "r"
      ]
    },
    {
      "attachments": {},
      "cell_type": "markdown",
      "id": "2779f5ee",
      "metadata": {},
      "source": [
        "使用掩码数组超出了本书的范围。 然而，基本思想是许多 **numpy** 操作“尊重”掩码，以便用户不必跟踪“无数据”值的标记方式，类似于自然的“np.nan” ` 代表。 例如，屏蔽数组的“.mean”会忽略值“-9999”，因为它是屏蔽的，仅考虑有效值“1”、“2”和“4”：\n"
      ]
    },
    {
      "cell_type": "code",
      "execution_count": 82,
      "id": "df58f43b",
      "metadata": {},
      "outputs": [
        {
          "data": {
            "text/plain": [
              "2.3333333333333335"
            ]
          },
          "execution_count": 82,
          "metadata": {},
          "output_type": "execute_result"
        }
      ],
      "source": [
        "r.mean()"
      ]
    },
    {
      "attachments": {},
      "cell_type": "markdown",
      "id": "3441ba80",
      "metadata": {},
      "source": [
        "请记住，有点令人困惑的是，“float”栅格可能使用特定值（例如“-9999.0”）来表示“无数据”，或者除了（！）之外，还使用本机“np.nan”表示。\n",
        "在这种情况下，针对“int”显示的相同注意事项也适用于“float”栅格。\n",
        "\n"
      ]
    }
  ],
  "metadata": {
    "kernelspec": {
      "display_name": "base",
      "language": "python",
      "name": "python3"
    },
    "language_info": {
      "codemirror_mode": {
        "name": "ipython",
        "version": 3
      },
      "file_extension": ".py",
      "mimetype": "text/x-python",
      "name": "python",
      "nbconvert_exporter": "python",
      "pygments_lexer": "ipython3",
      "version": "3.9.16"
    }
  },
  "nbformat": 4,
  "nbformat_minor": 5
}
